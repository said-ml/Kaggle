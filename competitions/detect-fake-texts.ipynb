{
 "cells": [
  {
   "cell_type": "code",
   "execution_count": 1,
   "id": "97622b75",
   "metadata": {
    "_cell_guid": "b1076dfc-b9ad-4769-8c92-a6c4dae69d19",
    "_uuid": "8f2839f25d086af736a60e9eeb907d3b93b6e0e5",
    "execution": {
     "iopub.execute_input": "2023-12-07T18:26:57.551231Z",
     "iopub.status.busy": "2023-12-07T18:26:57.550545Z",
     "iopub.status.idle": "2023-12-07T18:26:58.013395Z",
     "shell.execute_reply": "2023-12-07T18:26:58.011739Z"
    },
    "papermill": {
     "duration": 0.483573,
     "end_time": "2023-12-07T18:26:58.016050",
     "exception": false,
     "start_time": "2023-12-07T18:26:57.532477",
     "status": "completed"
    },
    "tags": []
   },
   "outputs": [
    {
     "name": "stdout",
     "output_type": "stream",
     "text": [
      "/kaggle/input/argugpt/argugpt.csv\n",
      "/kaggle/input/argugpt/machine-dev.csv\n",
      "/kaggle/input/argugpt/machine-test.csv\n",
      "/kaggle/input/argugpt/machine-train.csv\n",
      "/kaggle/input/llm-detect-ai-generated-text/sample_submission.csv\n",
      "/kaggle/input/llm-detect-ai-generated-text/train_prompts.csv\n",
      "/kaggle/input/llm-detect-ai-generated-text/test_essays.csv\n",
      "/kaggle/input/llm-detect-ai-generated-text/train_essays.csv\n",
      "/kaggle/input/daigt-v2-train-dataset/train_v2_drcat_02.csv\n",
      "/kaggle/input/daigt-proper-train-dataset/train_drcat_03.csv\n",
      "/kaggle/input/daigt-proper-train-dataset/train_drcat_02.csv\n",
      "/kaggle/input/daigt-proper-train-dataset/train_drcat_04.csv\n",
      "/kaggle/input/daigt-proper-train-dataset/train_drcat_01.csv\n",
      "/kaggle/input/daigt-external-dataset/daigt_external_dataset.csv\n"
     ]
    }
   ],
   "source": [
    "# This Python 3 environment comes with many helpful analytics libraries installed\n",
    "# It is defined by the kaggle/python Docker image: https://github.com/kaggle/docker-python\n",
    "# For example, here's several helpful packages to load\n",
    "\n",
    "import numpy as np # linear algebra\n",
    "import pandas as pd # data processing, CSV file I/O (e.g. pd.read_csv)\n",
    "\n",
    "# Input data files are available in the read-only \"../input/\" directory\n",
    "# For example, running this (by clicking run or pressing Shift+Enter) will list all files under the input directory\n",
    "\n",
    "import os\n",
    "for dirname, _, filenames in os.walk('/kaggle/input'):\n",
    "    for filename in filenames:\n",
    "        print(os.path.join(dirname, filename))\n",
    "\n",
    "# You can write up to 20GB to the current directory (/kaggle/working/) that gets preserved as output when you create a version using \"Save & Run All\" \n",
    "# You can also write temporary files to /kaggle/temp/, but they won't be saved outside of the current session"
   ]
  },
  {
   "cell_type": "code",
   "execution_count": null,
   "id": "b59d3f90",
   "metadata": {
    "papermill": {
     "duration": 0.015094,
     "end_time": "2023-12-07T18:26:58.046689",
     "exception": false,
     "start_time": "2023-12-07T18:26:58.031595",
     "status": "completed"
    },
    "tags": []
   },
   "outputs": [],
   "source": []
  },
  {
   "cell_type": "code",
   "execution_count": null,
   "id": "eabd854c",
   "metadata": {
    "papermill": {
     "duration": 0.015012,
     "end_time": "2023-12-07T18:26:58.077230",
     "exception": false,
     "start_time": "2023-12-07T18:26:58.062218",
     "status": "completed"
    },
    "tags": []
   },
   "outputs": [],
   "source": []
  },
  {
   "cell_type": "code",
   "execution_count": null,
   "id": "8fbc9f71",
   "metadata": {
    "papermill": {
     "duration": 0.015409,
     "end_time": "2023-12-07T18:26:58.108020",
     "exception": false,
     "start_time": "2023-12-07T18:26:58.092611",
     "status": "completed"
    },
    "tags": []
   },
   "outputs": [],
   "source": []
  },
  {
   "cell_type": "markdown",
   "id": "9aada3bb",
   "metadata": {
    "papermill": {
     "duration": 0.015856,
     "end_time": "2023-12-07T18:26:58.140195",
     "exception": false,
     "start_time": "2023-12-07T18:26:58.124339",
     "status": "completed"
    },
    "tags": []
   },
   "source": []
  },
  {
   "cell_type": "markdown",
   "id": "62f63e7a",
   "metadata": {
    "papermill": {
     "duration": 0.014914,
     "end_time": "2023-12-07T18:26:58.170340",
     "exception": false,
     "start_time": "2023-12-07T18:26:58.155426",
     "status": "completed"
    },
    "tags": []
   },
   "source": [
    "## Import Packages:"
   ]
  },
  {
   "cell_type": "code",
   "execution_count": 2,
   "id": "ccaf3ff5",
   "metadata": {
    "execution": {
     "iopub.execute_input": "2023-12-07T18:26:58.205474Z",
     "iopub.status.busy": "2023-12-07T18:26:58.204464Z",
     "iopub.status.idle": "2023-12-07T18:27:14.498305Z",
     "shell.execute_reply": "2023-12-07T18:27:14.496970Z"
    },
    "papermill": {
     "duration": 16.315025,
     "end_time": "2023-12-07T18:27:14.501013",
     "exception": false,
     "start_time": "2023-12-07T18:26:58.185988",
     "status": "completed"
    },
    "tags": []
   },
   "outputs": [],
   "source": [
    "import tensorflow as tf\n",
    "from tensorflow import keras\n",
    "from keras.models import Sequential, Model\n",
    "from keras.layers import Dense, Embedding, GRU, LSTM, TextVectorization, Input\n",
    "from keras.optimizers import Adam\n",
    "from sklearn.model_selection import train_test_split\n",
    "from sklearn.feature_extraction.text import TfidfVectorizer\n",
    "import re"
   ]
  },
  {
   "cell_type": "markdown",
   "id": "83e0b57e",
   "metadata": {
    "papermill": {
     "duration": 0.015044,
     "end_time": "2023-12-07T18:27:14.531468",
     "exception": false,
     "start_time": "2023-12-07T18:27:14.516424",
     "status": "completed"
    },
    "tags": []
   },
   "source": [
    "## Read Data:"
   ]
  },
  {
   "cell_type": "code",
   "execution_count": 3,
   "id": "735697bf",
   "metadata": {
    "execution": {
     "iopub.execute_input": "2023-12-07T18:27:14.564996Z",
     "iopub.status.busy": "2023-12-07T18:27:14.564219Z",
     "iopub.status.idle": "2023-12-07T18:27:14.600036Z",
     "shell.execute_reply": "2023-12-07T18:27:14.598817Z"
    },
    "papermill": {
     "duration": 0.055611,
     "end_time": "2023-12-07T18:27:14.602785",
     "exception": false,
     "start_time": "2023-12-07T18:27:14.547174",
     "status": "completed"
    },
    "tags": []
   },
   "outputs": [
    {
     "data": {
      "text/html": [
       "<div>\n",
       "<style scoped>\n",
       "    .dataframe tbody tr th:only-of-type {\n",
       "        vertical-align: middle;\n",
       "    }\n",
       "\n",
       "    .dataframe tbody tr th {\n",
       "        vertical-align: top;\n",
       "    }\n",
       "\n",
       "    .dataframe thead th {\n",
       "        text-align: right;\n",
       "    }\n",
       "</style>\n",
       "<table border=\"1\" class=\"dataframe\">\n",
       "  <thead>\n",
       "    <tr style=\"text-align: right;\">\n",
       "      <th></th>\n",
       "      <th>prompt_id</th>\n",
       "      <th>prompt_name</th>\n",
       "      <th>instructions</th>\n",
       "      <th>source_text</th>\n",
       "    </tr>\n",
       "  </thead>\n",
       "  <tbody>\n",
       "    <tr>\n",
       "      <th>0</th>\n",
       "      <td>0</td>\n",
       "      <td>Car-free cities</td>\n",
       "      <td>Write an explanatory essay to inform fellow ci...</td>\n",
       "      <td># In German Suburb, Life Goes On Without Cars ...</td>\n",
       "    </tr>\n",
       "    <tr>\n",
       "      <th>1</th>\n",
       "      <td>1</td>\n",
       "      <td>Does the electoral college work?</td>\n",
       "      <td>Write a letter to your state senator in which ...</td>\n",
       "      <td># What Is the Electoral College? by the Office...</td>\n",
       "    </tr>\n",
       "  </tbody>\n",
       "</table>\n",
       "</div>"
      ],
      "text/plain": [
       "   prompt_id                       prompt_name  \\\n",
       "0          0                   Car-free cities   \n",
       "1          1  Does the electoral college work?   \n",
       "\n",
       "                                        instructions  \\\n",
       "0  Write an explanatory essay to inform fellow ci...   \n",
       "1  Write a letter to your state senator in which ...   \n",
       "\n",
       "                                         source_text  \n",
       "0  # In German Suburb, Life Goes On Without Cars ...  \n",
       "1  # What Is the Electoral College? by the Office...  "
      ]
     },
     "execution_count": 3,
     "metadata": {},
     "output_type": "execute_result"
    }
   ],
   "source": [
    "train_prompts=pd.read_csv('/kaggle/input/llm-detect-ai-generated-text/train_prompts.csv')\n",
    "train_prompts"
   ]
  },
  {
   "cell_type": "code",
   "execution_count": 4,
   "id": "78811036",
   "metadata": {
    "execution": {
     "iopub.execute_input": "2023-12-07T18:27:14.636945Z",
     "iopub.status.busy": "2023-12-07T18:27:14.636163Z",
     "iopub.status.idle": "2023-12-07T18:27:14.757200Z",
     "shell.execute_reply": "2023-12-07T18:27:14.756018Z"
    },
    "papermill": {
     "duration": 0.140896,
     "end_time": "2023-12-07T18:27:14.759743",
     "exception": false,
     "start_time": "2023-12-07T18:27:14.618847",
     "status": "completed"
    },
    "tags": []
   },
   "outputs": [
    {
     "data": {
      "text/html": [
       "<div>\n",
       "<style scoped>\n",
       "    .dataframe tbody tr th:only-of-type {\n",
       "        vertical-align: middle;\n",
       "    }\n",
       "\n",
       "    .dataframe tbody tr th {\n",
       "        vertical-align: top;\n",
       "    }\n",
       "\n",
       "    .dataframe thead th {\n",
       "        text-align: right;\n",
       "    }\n",
       "</style>\n",
       "<table border=\"1\" class=\"dataframe\">\n",
       "  <thead>\n",
       "    <tr style=\"text-align: right;\">\n",
       "      <th></th>\n",
       "      <th>id</th>\n",
       "      <th>prompt_id</th>\n",
       "      <th>text</th>\n",
       "      <th>generated</th>\n",
       "    </tr>\n",
       "  </thead>\n",
       "  <tbody>\n",
       "    <tr>\n",
       "      <th>0</th>\n",
       "      <td>0059830c</td>\n",
       "      <td>0</td>\n",
       "      <td>Cars. Cars have been around since they became ...</td>\n",
       "      <td>0</td>\n",
       "    </tr>\n",
       "    <tr>\n",
       "      <th>1</th>\n",
       "      <td>005db917</td>\n",
       "      <td>0</td>\n",
       "      <td>Transportation is a large necessity in most co...</td>\n",
       "      <td>0</td>\n",
       "    </tr>\n",
       "    <tr>\n",
       "      <th>2</th>\n",
       "      <td>008f63e3</td>\n",
       "      <td>0</td>\n",
       "      <td>\"America's love affair with it's vehicles seem...</td>\n",
       "      <td>0</td>\n",
       "    </tr>\n",
       "    <tr>\n",
       "      <th>3</th>\n",
       "      <td>00940276</td>\n",
       "      <td>0</td>\n",
       "      <td>How often do you ride in a car? Do you drive a...</td>\n",
       "      <td>0</td>\n",
       "    </tr>\n",
       "    <tr>\n",
       "      <th>4</th>\n",
       "      <td>00c39458</td>\n",
       "      <td>0</td>\n",
       "      <td>Cars are a wonderful thing. They are perhaps o...</td>\n",
       "      <td>0</td>\n",
       "    </tr>\n",
       "    <tr>\n",
       "      <th>...</th>\n",
       "      <td>...</td>\n",
       "      <td>...</td>\n",
       "      <td>...</td>\n",
       "      <td>...</td>\n",
       "    </tr>\n",
       "    <tr>\n",
       "      <th>1373</th>\n",
       "      <td>fe6ff9a5</td>\n",
       "      <td>1</td>\n",
       "      <td>There has been a fuss about the Elector Colleg...</td>\n",
       "      <td>0</td>\n",
       "    </tr>\n",
       "    <tr>\n",
       "      <th>1374</th>\n",
       "      <td>ff669174</td>\n",
       "      <td>0</td>\n",
       "      <td>Limiting car usage has many advantages. Such a...</td>\n",
       "      <td>0</td>\n",
       "    </tr>\n",
       "    <tr>\n",
       "      <th>1375</th>\n",
       "      <td>ffa247e0</td>\n",
       "      <td>0</td>\n",
       "      <td>There's a new trend that has been developing f...</td>\n",
       "      <td>0</td>\n",
       "    </tr>\n",
       "    <tr>\n",
       "      <th>1376</th>\n",
       "      <td>ffc237e9</td>\n",
       "      <td>0</td>\n",
       "      <td>As we all know cars are a big part of our soci...</td>\n",
       "      <td>0</td>\n",
       "    </tr>\n",
       "    <tr>\n",
       "      <th>1377</th>\n",
       "      <td>ffe1ca0d</td>\n",
       "      <td>0</td>\n",
       "      <td>Cars have been around since the 1800's and hav...</td>\n",
       "      <td>0</td>\n",
       "    </tr>\n",
       "  </tbody>\n",
       "</table>\n",
       "<p>1378 rows × 4 columns</p>\n",
       "</div>"
      ],
      "text/plain": [
       "            id  prompt_id                                               text  \\\n",
       "0     0059830c          0  Cars. Cars have been around since they became ...   \n",
       "1     005db917          0  Transportation is a large necessity in most co...   \n",
       "2     008f63e3          0  \"America's love affair with it's vehicles seem...   \n",
       "3     00940276          0  How often do you ride in a car? Do you drive a...   \n",
       "4     00c39458          0  Cars are a wonderful thing. They are perhaps o...   \n",
       "...        ...        ...                                                ...   \n",
       "1373  fe6ff9a5          1  There has been a fuss about the Elector Colleg...   \n",
       "1374  ff669174          0  Limiting car usage has many advantages. Such a...   \n",
       "1375  ffa247e0          0  There's a new trend that has been developing f...   \n",
       "1376  ffc237e9          0  As we all know cars are a big part of our soci...   \n",
       "1377  ffe1ca0d          0  Cars have been around since the 1800's and hav...   \n",
       "\n",
       "      generated  \n",
       "0             0  \n",
       "1             0  \n",
       "2             0  \n",
       "3             0  \n",
       "4             0  \n",
       "...         ...  \n",
       "1373          0  \n",
       "1374          0  \n",
       "1375          0  \n",
       "1376          0  \n",
       "1377          0  \n",
       "\n",
       "[1378 rows x 4 columns]"
      ]
     },
     "execution_count": 4,
     "metadata": {},
     "output_type": "execute_result"
    }
   ],
   "source": [
    "train_essays=pd.read_csv('/kaggle/input/llm-detect-ai-generated-text/train_essays.csv')\n",
    "train_essays"
   ]
  },
  {
   "cell_type": "markdown",
   "id": "71d7ca3e",
   "metadata": {
    "papermill": {
     "duration": 0.015757,
     "end_time": "2023-12-07T18:27:14.791512",
     "exception": false,
     "start_time": "2023-12-07T18:27:14.775755",
     "status": "completed"
    },
    "tags": []
   },
   "source": []
  },
  {
   "cell_type": "code",
   "execution_count": 5,
   "id": "7cdb1753",
   "metadata": {
    "execution": {
     "iopub.execute_input": "2023-12-07T18:27:14.888093Z",
     "iopub.status.busy": "2023-12-07T18:27:14.887250Z",
     "iopub.status.idle": "2023-12-07T18:27:14.906169Z",
     "shell.execute_reply": "2023-12-07T18:27:14.904963Z"
    },
    "papermill": {
     "duration": 0.039201,
     "end_time": "2023-12-07T18:27:14.908802",
     "exception": false,
     "start_time": "2023-12-07T18:27:14.869601",
     "status": "completed"
    },
    "tags": []
   },
   "outputs": [
    {
     "data": {
      "text/html": [
       "<div>\n",
       "<style scoped>\n",
       "    .dataframe tbody tr th:only-of-type {\n",
       "        vertical-align: middle;\n",
       "    }\n",
       "\n",
       "    .dataframe tbody tr th {\n",
       "        vertical-align: top;\n",
       "    }\n",
       "\n",
       "    .dataframe thead th {\n",
       "        text-align: right;\n",
       "    }\n",
       "</style>\n",
       "<table border=\"1\" class=\"dataframe\">\n",
       "  <thead>\n",
       "    <tr style=\"text-align: right;\">\n",
       "      <th></th>\n",
       "      <th>id</th>\n",
       "      <th>generated</th>\n",
       "    </tr>\n",
       "  </thead>\n",
       "  <tbody>\n",
       "    <tr>\n",
       "      <th>0</th>\n",
       "      <td>0000aaaa</td>\n",
       "      <td>0.1</td>\n",
       "    </tr>\n",
       "    <tr>\n",
       "      <th>1</th>\n",
       "      <td>1111bbbb</td>\n",
       "      <td>0.9</td>\n",
       "    </tr>\n",
       "    <tr>\n",
       "      <th>2</th>\n",
       "      <td>2222cccc</td>\n",
       "      <td>0.4</td>\n",
       "    </tr>\n",
       "  </tbody>\n",
       "</table>\n",
       "</div>"
      ],
      "text/plain": [
       "         id  generated\n",
       "0  0000aaaa        0.1\n",
       "1  1111bbbb        0.9\n",
       "2  2222cccc        0.4"
      ]
     },
     "execution_count": 5,
     "metadata": {},
     "output_type": "execute_result"
    }
   ],
   "source": [
    "sample_submission=pd.read_csv('/kaggle/input/llm-detect-ai-generated-text/sample_submission.csv')\n",
    "sample_submission"
   ]
  },
  {
   "cell_type": "code",
   "execution_count": 6,
   "id": "6f66a9e9",
   "metadata": {
    "execution": {
     "iopub.execute_input": "2023-12-07T18:27:14.943970Z",
     "iopub.status.busy": "2023-12-07T18:27:14.943123Z",
     "iopub.status.idle": "2023-12-07T18:27:14.953633Z",
     "shell.execute_reply": "2023-12-07T18:27:14.952476Z"
    },
    "papermill": {
     "duration": 0.030697,
     "end_time": "2023-12-07T18:27:14.955957",
     "exception": false,
     "start_time": "2023-12-07T18:27:14.925260",
     "status": "completed"
    },
    "tags": []
   },
   "outputs": [
    {
     "data": {
      "text/plain": [
       "704     This essay will analyze, discuss and prove one...\n",
       "740     I strongly believe that the Electoral College ...\n",
       "1262    Limiting car use causes pollution, increases c...\n",
       "Name: text, dtype: object"
      ]
     },
     "execution_count": 6,
     "metadata": {},
     "output_type": "execute_result"
    }
   ],
   "source": [
    "# splitting data in generated and non generated\n",
    "generated=train_essays[train_essays['generated']==1]['text']\n",
    "#not_generated=[]\n",
    "'''\n",
    "for text in train_essays['text']:\n",
    "    \n",
    "  if train_essays[train_essays['generated']==0]:\n",
    "        generated.append(text)\n",
    "        \n",
    "  else:\n",
    "    not_generated.append(text)\n",
    "'''\n",
    "generated \n",
    "        "
   ]
  },
  {
   "cell_type": "code",
   "execution_count": null,
   "id": "31920a4d",
   "metadata": {
    "papermill": {
     "duration": 0.01626,
     "end_time": "2023-12-07T18:27:14.988741",
     "exception": false,
     "start_time": "2023-12-07T18:27:14.972481",
     "status": "completed"
    },
    "tags": []
   },
   "outputs": [],
   "source": []
  },
  {
   "cell_type": "code",
   "execution_count": 7,
   "id": "e5c0466d",
   "metadata": {
    "execution": {
     "iopub.execute_input": "2023-12-07T18:27:15.023781Z",
     "iopub.status.busy": "2023-12-07T18:27:15.023348Z",
     "iopub.status.idle": "2023-12-07T18:27:15.050170Z",
     "shell.execute_reply": "2023-12-07T18:27:15.048984Z"
    },
    "papermill": {
     "duration": 0.047514,
     "end_time": "2023-12-07T18:27:15.052812",
     "exception": false,
     "start_time": "2023-12-07T18:27:15.005298",
     "status": "completed"
    },
    "tags": []
   },
   "outputs": [
    {
     "data": {
      "text/html": [
       "<div>\n",
       "<style scoped>\n",
       "    .dataframe tbody tr th:only-of-type {\n",
       "        vertical-align: middle;\n",
       "    }\n",
       "\n",
       "    .dataframe tbody tr th {\n",
       "        vertical-align: top;\n",
       "    }\n",
       "\n",
       "    .dataframe thead th {\n",
       "        text-align: right;\n",
       "    }\n",
       "</style>\n",
       "<table border=\"1\" class=\"dataframe\">\n",
       "  <thead>\n",
       "    <tr style=\"text-align: right;\">\n",
       "      <th></th>\n",
       "      <th>prompt_name</th>\n",
       "      <th>instructions</th>\n",
       "      <th>source_text</th>\n",
       "      <th>id</th>\n",
       "      <th>text</th>\n",
       "      <th>generated</th>\n",
       "    </tr>\n",
       "  </thead>\n",
       "  <tbody>\n",
       "    <tr>\n",
       "      <th>0</th>\n",
       "      <td>Car-free cities</td>\n",
       "      <td>Write an explanatory essay to inform fellow ci...</td>\n",
       "      <td># In German Suburb, Life Goes On Without Cars ...</td>\n",
       "      <td>0059830c</td>\n",
       "      <td>Cars. Cars have been around since they became ...</td>\n",
       "      <td>0</td>\n",
       "    </tr>\n",
       "    <tr>\n",
       "      <th>1</th>\n",
       "      <td>Does the electoral college work?</td>\n",
       "      <td>Write a letter to your state senator in which ...</td>\n",
       "      <td># What Is the Electoral College? by the Office...</td>\n",
       "      <td>005db917</td>\n",
       "      <td>Transportation is a large necessity in most co...</td>\n",
       "      <td>0</td>\n",
       "    </tr>\n",
       "    <tr>\n",
       "      <th>2</th>\n",
       "      <td>NaN</td>\n",
       "      <td>NaN</td>\n",
       "      <td>NaN</td>\n",
       "      <td>008f63e3</td>\n",
       "      <td>\"America's love affair with it's vehicles seem...</td>\n",
       "      <td>0</td>\n",
       "    </tr>\n",
       "    <tr>\n",
       "      <th>3</th>\n",
       "      <td>NaN</td>\n",
       "      <td>NaN</td>\n",
       "      <td>NaN</td>\n",
       "      <td>00940276</td>\n",
       "      <td>How often do you ride in a car? Do you drive a...</td>\n",
       "      <td>0</td>\n",
       "    </tr>\n",
       "    <tr>\n",
       "      <th>4</th>\n",
       "      <td>NaN</td>\n",
       "      <td>NaN</td>\n",
       "      <td>NaN</td>\n",
       "      <td>00c39458</td>\n",
       "      <td>Cars are a wonderful thing. They are perhaps o...</td>\n",
       "      <td>0</td>\n",
       "    </tr>\n",
       "  </tbody>\n",
       "</table>\n",
       "</div>"
      ],
      "text/plain": [
       "                        prompt_name  \\\n",
       "0                   Car-free cities   \n",
       "1  Does the electoral college work?   \n",
       "2                               NaN   \n",
       "3                               NaN   \n",
       "4                               NaN   \n",
       "\n",
       "                                        instructions  \\\n",
       "0  Write an explanatory essay to inform fellow ci...   \n",
       "1  Write a letter to your state senator in which ...   \n",
       "2                                                NaN   \n",
       "3                                                NaN   \n",
       "4                                                NaN   \n",
       "\n",
       "                                         source_text        id  \\\n",
       "0  # In German Suburb, Life Goes On Without Cars ...  0059830c   \n",
       "1  # What Is the Electoral College? by the Office...  005db917   \n",
       "2                                                NaN  008f63e3   \n",
       "3                                                NaN  00940276   \n",
       "4                                                NaN  00c39458   \n",
       "\n",
       "                                                text  generated  \n",
       "0  Cars. Cars have been around since they became ...          0  \n",
       "1  Transportation is a large necessity in most co...          0  \n",
       "2  \"America's love affair with it's vehicles seem...          0  \n",
       "3  How often do you ride in a car? Do you drive a...          0  \n",
       "4  Cars are a wonderful thing. They are perhaps o...          0  "
      ]
     },
     "execution_count": 7,
     "metadata": {},
     "output_type": "execute_result"
    }
   ],
   "source": [
    "# group the data frames by the prompt_id column:\n",
    "\n",
    "# concatenate the the data frames by the second axis(, e, g columns axis=1)\n",
    "concat_df=pd.concat([train_prompts, train_essays], axis=1)\n",
    "# we group by prompt_id \n",
    "concat_df.drop('prompt_id', axis=1, inplace=True)\n",
    "concat_df.head()\n",
    "#concat_df.groupby('prompt_id')"
   ]
  },
  {
   "cell_type": "markdown",
   "id": "dc7b9773",
   "metadata": {
    "papermill": {
     "duration": 0.016629,
     "end_time": "2023-12-07T18:27:15.086353",
     "exception": false,
     "start_time": "2023-12-07T18:27:15.069724",
     "status": "completed"
    },
    "tags": []
   },
   "source": [
    "## Data Visualizion And Feature Engineering:"
   ]
  },
  {
   "cell_type": "code",
   "execution_count": 8,
   "id": "0da1632c",
   "metadata": {
    "execution": {
     "iopub.execute_input": "2023-12-07T18:27:15.121981Z",
     "iopub.status.busy": "2023-12-07T18:27:15.121557Z",
     "iopub.status.idle": "2023-12-07T18:27:15.153188Z",
     "shell.execute_reply": "2023-12-07T18:27:15.151925Z"
    },
    "papermill": {
     "duration": 0.052476,
     "end_time": "2023-12-07T18:27:15.155679",
     "exception": false,
     "start_time": "2023-12-07T18:27:15.103203",
     "status": "completed"
    },
    "tags": []
   },
   "outputs": [
    {
     "data": {
      "text/html": [
       "<div>\n",
       "<style scoped>\n",
       "    .dataframe tbody tr th:only-of-type {\n",
       "        vertical-align: middle;\n",
       "    }\n",
       "\n",
       "    .dataframe tbody tr th {\n",
       "        vertical-align: top;\n",
       "    }\n",
       "\n",
       "    .dataframe thead th {\n",
       "        text-align: right;\n",
       "    }\n",
       "</style>\n",
       "<table border=\"1\" class=\"dataframe\">\n",
       "  <thead>\n",
       "    <tr style=\"text-align: right;\">\n",
       "      <th></th>\n",
       "      <th>id</th>\n",
       "      <th>prompt_id</th>\n",
       "      <th>text</th>\n",
       "      <th>prompt_name</th>\n",
       "      <th>instructions</th>\n",
       "      <th>source_text</th>\n",
       "      <th>generated</th>\n",
       "    </tr>\n",
       "  </thead>\n",
       "  <tbody>\n",
       "    <tr>\n",
       "      <th>0</th>\n",
       "      <td>0059830c</td>\n",
       "      <td>0</td>\n",
       "      <td>Cars. Cars have been around since they became ...</td>\n",
       "      <td>Car-free cities</td>\n",
       "      <td>Write an explanatory essay to inform fellow ci...</td>\n",
       "      <td># In German Suburb, Life Goes On Without Cars ...</td>\n",
       "      <td>0</td>\n",
       "    </tr>\n",
       "    <tr>\n",
       "      <th>1</th>\n",
       "      <td>005db917</td>\n",
       "      <td>0</td>\n",
       "      <td>Transportation is a large necessity in most co...</td>\n",
       "      <td>Car-free cities</td>\n",
       "      <td>Write an explanatory essay to inform fellow ci...</td>\n",
       "      <td># In German Suburb, Life Goes On Without Cars ...</td>\n",
       "      <td>0</td>\n",
       "    </tr>\n",
       "    <tr>\n",
       "      <th>2</th>\n",
       "      <td>008f63e3</td>\n",
       "      <td>0</td>\n",
       "      <td>\"America's love affair with it's vehicles seem...</td>\n",
       "      <td>Car-free cities</td>\n",
       "      <td>Write an explanatory essay to inform fellow ci...</td>\n",
       "      <td># In German Suburb, Life Goes On Without Cars ...</td>\n",
       "      <td>0</td>\n",
       "    </tr>\n",
       "    <tr>\n",
       "      <th>3</th>\n",
       "      <td>00940276</td>\n",
       "      <td>0</td>\n",
       "      <td>How often do you ride in a car? Do you drive a...</td>\n",
       "      <td>Car-free cities</td>\n",
       "      <td>Write an explanatory essay to inform fellow ci...</td>\n",
       "      <td># In German Suburb, Life Goes On Without Cars ...</td>\n",
       "      <td>0</td>\n",
       "    </tr>\n",
       "    <tr>\n",
       "      <th>4</th>\n",
       "      <td>00c39458</td>\n",
       "      <td>0</td>\n",
       "      <td>Cars are a wonderful thing. They are perhaps o...</td>\n",
       "      <td>Car-free cities</td>\n",
       "      <td>Write an explanatory essay to inform fellow ci...</td>\n",
       "      <td># In German Suburb, Life Goes On Without Cars ...</td>\n",
       "      <td>0</td>\n",
       "    </tr>\n",
       "    <tr>\n",
       "      <th>...</th>\n",
       "      <td>...</td>\n",
       "      <td>...</td>\n",
       "      <td>...</td>\n",
       "      <td>...</td>\n",
       "      <td>...</td>\n",
       "      <td>...</td>\n",
       "      <td>...</td>\n",
       "    </tr>\n",
       "    <tr>\n",
       "      <th>1373</th>\n",
       "      <td>fe6ff9a5</td>\n",
       "      <td>1</td>\n",
       "      <td>There has been a fuss about the Elector Colleg...</td>\n",
       "      <td>Does the electoral college work?</td>\n",
       "      <td>Write a letter to your state senator in which ...</td>\n",
       "      <td># What Is the Electoral College? by the Office...</td>\n",
       "      <td>0</td>\n",
       "    </tr>\n",
       "    <tr>\n",
       "      <th>1374</th>\n",
       "      <td>ff669174</td>\n",
       "      <td>0</td>\n",
       "      <td>Limiting car usage has many advantages. Such a...</td>\n",
       "      <td>Car-free cities</td>\n",
       "      <td>Write an explanatory essay to inform fellow ci...</td>\n",
       "      <td># In German Suburb, Life Goes On Without Cars ...</td>\n",
       "      <td>0</td>\n",
       "    </tr>\n",
       "    <tr>\n",
       "      <th>1375</th>\n",
       "      <td>ffa247e0</td>\n",
       "      <td>0</td>\n",
       "      <td>There's a new trend that has been developing f...</td>\n",
       "      <td>Car-free cities</td>\n",
       "      <td>Write an explanatory essay to inform fellow ci...</td>\n",
       "      <td># In German Suburb, Life Goes On Without Cars ...</td>\n",
       "      <td>0</td>\n",
       "    </tr>\n",
       "    <tr>\n",
       "      <th>1376</th>\n",
       "      <td>ffc237e9</td>\n",
       "      <td>0</td>\n",
       "      <td>As we all know cars are a big part of our soci...</td>\n",
       "      <td>Car-free cities</td>\n",
       "      <td>Write an explanatory essay to inform fellow ci...</td>\n",
       "      <td># In German Suburb, Life Goes On Without Cars ...</td>\n",
       "      <td>0</td>\n",
       "    </tr>\n",
       "    <tr>\n",
       "      <th>1377</th>\n",
       "      <td>ffe1ca0d</td>\n",
       "      <td>0</td>\n",
       "      <td>Cars have been around since the 1800's and hav...</td>\n",
       "      <td>Car-free cities</td>\n",
       "      <td>Write an explanatory essay to inform fellow ci...</td>\n",
       "      <td># In German Suburb, Life Goes On Without Cars ...</td>\n",
       "      <td>0</td>\n",
       "    </tr>\n",
       "  </tbody>\n",
       "</table>\n",
       "<p>1378 rows × 7 columns</p>\n",
       "</div>"
      ],
      "text/plain": [
       "            id  prompt_id                                               text  \\\n",
       "0     0059830c          0  Cars. Cars have been around since they became ...   \n",
       "1     005db917          0  Transportation is a large necessity in most co...   \n",
       "2     008f63e3          0  \"America's love affair with it's vehicles seem...   \n",
       "3     00940276          0  How often do you ride in a car? Do you drive a...   \n",
       "4     00c39458          0  Cars are a wonderful thing. They are perhaps o...   \n",
       "...        ...        ...                                                ...   \n",
       "1373  fe6ff9a5          1  There has been a fuss about the Elector Colleg...   \n",
       "1374  ff669174          0  Limiting car usage has many advantages. Such a...   \n",
       "1375  ffa247e0          0  There's a new trend that has been developing f...   \n",
       "1376  ffc237e9          0  As we all know cars are a big part of our soci...   \n",
       "1377  ffe1ca0d          0  Cars have been around since the 1800's and hav...   \n",
       "\n",
       "                           prompt_name  \\\n",
       "0                      Car-free cities   \n",
       "1                      Car-free cities   \n",
       "2                      Car-free cities   \n",
       "3                      Car-free cities   \n",
       "4                      Car-free cities   \n",
       "...                                ...   \n",
       "1373  Does the electoral college work?   \n",
       "1374                   Car-free cities   \n",
       "1375                   Car-free cities   \n",
       "1376                   Car-free cities   \n",
       "1377                   Car-free cities   \n",
       "\n",
       "                                           instructions  \\\n",
       "0     Write an explanatory essay to inform fellow ci...   \n",
       "1     Write an explanatory essay to inform fellow ci...   \n",
       "2     Write an explanatory essay to inform fellow ci...   \n",
       "3     Write an explanatory essay to inform fellow ci...   \n",
       "4     Write an explanatory essay to inform fellow ci...   \n",
       "...                                                 ...   \n",
       "1373  Write a letter to your state senator in which ...   \n",
       "1374  Write an explanatory essay to inform fellow ci...   \n",
       "1375  Write an explanatory essay to inform fellow ci...   \n",
       "1376  Write an explanatory essay to inform fellow ci...   \n",
       "1377  Write an explanatory essay to inform fellow ci...   \n",
       "\n",
       "                                            source_text  generated  \n",
       "0     # In German Suburb, Life Goes On Without Cars ...          0  \n",
       "1     # In German Suburb, Life Goes On Without Cars ...          0  \n",
       "2     # In German Suburb, Life Goes On Without Cars ...          0  \n",
       "3     # In German Suburb, Life Goes On Without Cars ...          0  \n",
       "4     # In German Suburb, Life Goes On Without Cars ...          0  \n",
       "...                                                 ...        ...  \n",
       "1373  # What Is the Electoral College? by the Office...          0  \n",
       "1374  # In German Suburb, Life Goes On Without Cars ...          0  \n",
       "1375  # In German Suburb, Life Goes On Without Cars ...          0  \n",
       "1376  # In German Suburb, Life Goes On Without Cars ...          0  \n",
       "1377  # In German Suburb, Life Goes On Without Cars ...          0  \n",
       "\n",
       "[1378 rows x 7 columns]"
      ]
     },
     "execution_count": 8,
     "metadata": {},
     "output_type": "execute_result"
    }
   ],
   "source": [
    "# merge essays and prompts on prompts_id\n",
    "train_data1=pd.merge(train_essays, train_prompts, on='prompt_id', how='left')\n",
    "train_data1\n",
    "\n",
    "# ==> this following code is optional but preferable\n",
    "# exchange the place of the latest column('source_text') with the traget column('generated')\n",
    "train_data1=train_data1[['id', 'prompt_id', 'text', 'prompt_name', 'instructions', 'source_text', 'generated']]\n",
    "train_data1"
   ]
  },
  {
   "cell_type": "code",
   "execution_count": 9,
   "id": "7c2586ba",
   "metadata": {
    "execution": {
     "iopub.execute_input": "2023-12-07T18:27:15.193026Z",
     "iopub.status.busy": "2023-12-07T18:27:15.192532Z",
     "iopub.status.idle": "2023-12-07T18:27:15.213754Z",
     "shell.execute_reply": "2023-12-07T18:27:15.212533Z"
    },
    "papermill": {
     "duration": 0.042948,
     "end_time": "2023-12-07T18:27:15.216080",
     "exception": false,
     "start_time": "2023-12-07T18:27:15.173132",
     "status": "completed"
    },
    "tags": []
   },
   "outputs": [
    {
     "data": {
      "text/html": [
       "<div>\n",
       "<style scoped>\n",
       "    .dataframe tbody tr th:only-of-type {\n",
       "        vertical-align: middle;\n",
       "    }\n",
       "\n",
       "    .dataframe tbody tr th {\n",
       "        vertical-align: top;\n",
       "    }\n",
       "\n",
       "    .dataframe thead th {\n",
       "        text-align: right;\n",
       "    }\n",
       "</style>\n",
       "<table border=\"1\" class=\"dataframe\">\n",
       "  <thead>\n",
       "    <tr style=\"text-align: right;\">\n",
       "      <th></th>\n",
       "      <th>id</th>\n",
       "      <th>prompt_id</th>\n",
       "      <th>text</th>\n",
       "      <th>prompt_name</th>\n",
       "      <th>instructions</th>\n",
       "      <th>source_text</th>\n",
       "      <th>generated</th>\n",
       "    </tr>\n",
       "  </thead>\n",
       "  <tbody>\n",
       "    <tr>\n",
       "      <th>0</th>\n",
       "      <td>0059830c</td>\n",
       "      <td>0</td>\n",
       "      <td>Cars. Cars have been around since they became ...</td>\n",
       "      <td>Car-free cities</td>\n",
       "      <td>Write an explanatory essay to inform fellow ci...</td>\n",
       "      <td># In German Suburb, Life Goes On Without Cars ...</td>\n",
       "      <td>0</td>\n",
       "    </tr>\n",
       "    <tr>\n",
       "      <th>1</th>\n",
       "      <td>005db917</td>\n",
       "      <td>0</td>\n",
       "      <td>Transportation is a large necessity in most co...</td>\n",
       "      <td>Car-free cities</td>\n",
       "      <td>Write an explanatory essay to inform fellow ci...</td>\n",
       "      <td># In German Suburb, Life Goes On Without Cars ...</td>\n",
       "      <td>0</td>\n",
       "    </tr>\n",
       "    <tr>\n",
       "      <th>2</th>\n",
       "      <td>008f63e3</td>\n",
       "      <td>0</td>\n",
       "      <td>\"America's love affair with it's vehicles seem...</td>\n",
       "      <td>Car-free cities</td>\n",
       "      <td>Write an explanatory essay to inform fellow ci...</td>\n",
       "      <td># In German Suburb, Life Goes On Without Cars ...</td>\n",
       "      <td>0</td>\n",
       "    </tr>\n",
       "    <tr>\n",
       "      <th>3</th>\n",
       "      <td>00940276</td>\n",
       "      <td>0</td>\n",
       "      <td>How often do you ride in a car? Do you drive a...</td>\n",
       "      <td>Car-free cities</td>\n",
       "      <td>Write an explanatory essay to inform fellow ci...</td>\n",
       "      <td># In German Suburb, Life Goes On Without Cars ...</td>\n",
       "      <td>0</td>\n",
       "    </tr>\n",
       "    <tr>\n",
       "      <th>4</th>\n",
       "      <td>00c39458</td>\n",
       "      <td>0</td>\n",
       "      <td>Cars are a wonderful thing. They are perhaps o...</td>\n",
       "      <td>Car-free cities</td>\n",
       "      <td>Write an explanatory essay to inform fellow ci...</td>\n",
       "      <td># In German Suburb, Life Goes On Without Cars ...</td>\n",
       "      <td>0</td>\n",
       "    </tr>\n",
       "    <tr>\n",
       "      <th>...</th>\n",
       "      <td>...</td>\n",
       "      <td>...</td>\n",
       "      <td>...</td>\n",
       "      <td>...</td>\n",
       "      <td>...</td>\n",
       "      <td>...</td>\n",
       "      <td>...</td>\n",
       "    </tr>\n",
       "    <tr>\n",
       "      <th>1373</th>\n",
       "      <td>fe6ff9a5</td>\n",
       "      <td>1</td>\n",
       "      <td>There has been a fuss about the Elector Colleg...</td>\n",
       "      <td>Does the electoral college work?</td>\n",
       "      <td>Write a letter to your state senator in which ...</td>\n",
       "      <td># What Is the Electoral College? by the Office...</td>\n",
       "      <td>0</td>\n",
       "    </tr>\n",
       "    <tr>\n",
       "      <th>1374</th>\n",
       "      <td>ff669174</td>\n",
       "      <td>0</td>\n",
       "      <td>Limiting car usage has many advantages. Such a...</td>\n",
       "      <td>Car-free cities</td>\n",
       "      <td>Write an explanatory essay to inform fellow ci...</td>\n",
       "      <td># In German Suburb, Life Goes On Without Cars ...</td>\n",
       "      <td>0</td>\n",
       "    </tr>\n",
       "    <tr>\n",
       "      <th>1375</th>\n",
       "      <td>ffa247e0</td>\n",
       "      <td>0</td>\n",
       "      <td>There's a new trend that has been developing f...</td>\n",
       "      <td>Car-free cities</td>\n",
       "      <td>Write an explanatory essay to inform fellow ci...</td>\n",
       "      <td># In German Suburb, Life Goes On Without Cars ...</td>\n",
       "      <td>0</td>\n",
       "    </tr>\n",
       "    <tr>\n",
       "      <th>1376</th>\n",
       "      <td>ffc237e9</td>\n",
       "      <td>0</td>\n",
       "      <td>As we all know cars are a big part of our soci...</td>\n",
       "      <td>Car-free cities</td>\n",
       "      <td>Write an explanatory essay to inform fellow ci...</td>\n",
       "      <td># In German Suburb, Life Goes On Without Cars ...</td>\n",
       "      <td>0</td>\n",
       "    </tr>\n",
       "    <tr>\n",
       "      <th>1377</th>\n",
       "      <td>ffe1ca0d</td>\n",
       "      <td>0</td>\n",
       "      <td>Cars have been around since the 1800's and hav...</td>\n",
       "      <td>Car-free cities</td>\n",
       "      <td>Write an explanatory essay to inform fellow ci...</td>\n",
       "      <td># In German Suburb, Life Goes On Without Cars ...</td>\n",
       "      <td>0</td>\n",
       "    </tr>\n",
       "  </tbody>\n",
       "</table>\n",
       "<p>1378 rows × 7 columns</p>\n",
       "</div>"
      ],
      "text/plain": [
       "            id  prompt_id                                               text  \\\n",
       "0     0059830c          0  Cars. Cars have been around since they became ...   \n",
       "1     005db917          0  Transportation is a large necessity in most co...   \n",
       "2     008f63e3          0  \"America's love affair with it's vehicles seem...   \n",
       "3     00940276          0  How often do you ride in a car? Do you drive a...   \n",
       "4     00c39458          0  Cars are a wonderful thing. They are perhaps o...   \n",
       "...        ...        ...                                                ...   \n",
       "1373  fe6ff9a5          1  There has been a fuss about the Elector Colleg...   \n",
       "1374  ff669174          0  Limiting car usage has many advantages. Such a...   \n",
       "1375  ffa247e0          0  There's a new trend that has been developing f...   \n",
       "1376  ffc237e9          0  As we all know cars are a big part of our soci...   \n",
       "1377  ffe1ca0d          0  Cars have been around since the 1800's and hav...   \n",
       "\n",
       "                           prompt_name  \\\n",
       "0                      Car-free cities   \n",
       "1                      Car-free cities   \n",
       "2                      Car-free cities   \n",
       "3                      Car-free cities   \n",
       "4                      Car-free cities   \n",
       "...                                ...   \n",
       "1373  Does the electoral college work?   \n",
       "1374                   Car-free cities   \n",
       "1375                   Car-free cities   \n",
       "1376                   Car-free cities   \n",
       "1377                   Car-free cities   \n",
       "\n",
       "                                           instructions  \\\n",
       "0     Write an explanatory essay to inform fellow ci...   \n",
       "1     Write an explanatory essay to inform fellow ci...   \n",
       "2     Write an explanatory essay to inform fellow ci...   \n",
       "3     Write an explanatory essay to inform fellow ci...   \n",
       "4     Write an explanatory essay to inform fellow ci...   \n",
       "...                                                 ...   \n",
       "1373  Write a letter to your state senator in which ...   \n",
       "1374  Write an explanatory essay to inform fellow ci...   \n",
       "1375  Write an explanatory essay to inform fellow ci...   \n",
       "1376  Write an explanatory essay to inform fellow ci...   \n",
       "1377  Write an explanatory essay to inform fellow ci...   \n",
       "\n",
       "                                            source_text  generated  \n",
       "0     # In German Suburb, Life Goes On Without Cars ...          0  \n",
       "1     # In German Suburb, Life Goes On Without Cars ...          0  \n",
       "2     # In German Suburb, Life Goes On Without Cars ...          0  \n",
       "3     # In German Suburb, Life Goes On Without Cars ...          0  \n",
       "4     # In German Suburb, Life Goes On Without Cars ...          0  \n",
       "...                                                 ...        ...  \n",
       "1373  # What Is the Electoral College? by the Office...          0  \n",
       "1374  # In German Suburb, Life Goes On Without Cars ...          0  \n",
       "1375  # In German Suburb, Life Goes On Without Cars ...          0  \n",
       "1376  # In German Suburb, Life Goes On Without Cars ...          0  \n",
       "1377  # In German Suburb, Life Goes On Without Cars ...          0  \n",
       "\n",
       "[1378 rows x 7 columns]"
      ]
     },
     "execution_count": 9,
     "metadata": {},
     "output_type": "execute_result"
    }
   ],
   "source": [
    "# the generated data ( generated from Large Language Models LLMs)\n",
    "generated=train_data1[train_data1['generated']==1]\n",
    "train_data1"
   ]
  },
  {
   "cell_type": "code",
   "execution_count": 10,
   "id": "110f6a75",
   "metadata": {
    "execution": {
     "iopub.execute_input": "2023-12-07T18:27:15.253463Z",
     "iopub.status.busy": "2023-12-07T18:27:15.253060Z",
     "iopub.status.idle": "2023-12-07T18:27:15.274477Z",
     "shell.execute_reply": "2023-12-07T18:27:15.273223Z"
    },
    "papermill": {
     "duration": 0.043075,
     "end_time": "2023-12-07T18:27:15.276857",
     "exception": false,
     "start_time": "2023-12-07T18:27:15.233782",
     "status": "completed"
    },
    "tags": []
   },
   "outputs": [
    {
     "data": {
      "text/html": [
       "<div>\n",
       "<style scoped>\n",
       "    .dataframe tbody tr th:only-of-type {\n",
       "        vertical-align: middle;\n",
       "    }\n",
       "\n",
       "    .dataframe tbody tr th {\n",
       "        vertical-align: top;\n",
       "    }\n",
       "\n",
       "    .dataframe thead th {\n",
       "        text-align: right;\n",
       "    }\n",
       "</style>\n",
       "<table border=\"1\" class=\"dataframe\">\n",
       "  <thead>\n",
       "    <tr style=\"text-align: right;\">\n",
       "      <th></th>\n",
       "      <th>id</th>\n",
       "      <th>prompt_id</th>\n",
       "      <th>text</th>\n",
       "      <th>prompt_name</th>\n",
       "      <th>instructions</th>\n",
       "      <th>source_text</th>\n",
       "      <th>generated</th>\n",
       "    </tr>\n",
       "  </thead>\n",
       "  <tbody>\n",
       "    <tr>\n",
       "      <th>0</th>\n",
       "      <td>0059830c</td>\n",
       "      <td>0</td>\n",
       "      <td>Cars. Cars have been around since they became ...</td>\n",
       "      <td>Car-free cities</td>\n",
       "      <td>Write an explanatory essay to inform fellow ci...</td>\n",
       "      <td># In German Suburb, Life Goes On Without Cars ...</td>\n",
       "      <td>0</td>\n",
       "    </tr>\n",
       "    <tr>\n",
       "      <th>1</th>\n",
       "      <td>005db917</td>\n",
       "      <td>0</td>\n",
       "      <td>Transportation is a large necessity in most co...</td>\n",
       "      <td>Car-free cities</td>\n",
       "      <td>Write an explanatory essay to inform fellow ci...</td>\n",
       "      <td># In German Suburb, Life Goes On Without Cars ...</td>\n",
       "      <td>0</td>\n",
       "    </tr>\n",
       "    <tr>\n",
       "      <th>2</th>\n",
       "      <td>008f63e3</td>\n",
       "      <td>0</td>\n",
       "      <td>\"America's love affair with it's vehicles seem...</td>\n",
       "      <td>Car-free cities</td>\n",
       "      <td>Write an explanatory essay to inform fellow ci...</td>\n",
       "      <td># In German Suburb, Life Goes On Without Cars ...</td>\n",
       "      <td>0</td>\n",
       "    </tr>\n",
       "    <tr>\n",
       "      <th>3</th>\n",
       "      <td>00940276</td>\n",
       "      <td>0</td>\n",
       "      <td>How often do you ride in a car? Do you drive a...</td>\n",
       "      <td>Car-free cities</td>\n",
       "      <td>Write an explanatory essay to inform fellow ci...</td>\n",
       "      <td># In German Suburb, Life Goes On Without Cars ...</td>\n",
       "      <td>0</td>\n",
       "    </tr>\n",
       "    <tr>\n",
       "      <th>4</th>\n",
       "      <td>00c39458</td>\n",
       "      <td>0</td>\n",
       "      <td>Cars are a wonderful thing. They are perhaps o...</td>\n",
       "      <td>Car-free cities</td>\n",
       "      <td>Write an explanatory essay to inform fellow ci...</td>\n",
       "      <td># In German Suburb, Life Goes On Without Cars ...</td>\n",
       "      <td>0</td>\n",
       "    </tr>\n",
       "    <tr>\n",
       "      <th>...</th>\n",
       "      <td>...</td>\n",
       "      <td>...</td>\n",
       "      <td>...</td>\n",
       "      <td>...</td>\n",
       "      <td>...</td>\n",
       "      <td>...</td>\n",
       "      <td>...</td>\n",
       "    </tr>\n",
       "    <tr>\n",
       "      <th>1373</th>\n",
       "      <td>fe6ff9a5</td>\n",
       "      <td>1</td>\n",
       "      <td>There has been a fuss about the Elector Colleg...</td>\n",
       "      <td>Does the electoral college work?</td>\n",
       "      <td>Write a letter to your state senator in which ...</td>\n",
       "      <td># What Is the Electoral College? by the Office...</td>\n",
       "      <td>0</td>\n",
       "    </tr>\n",
       "    <tr>\n",
       "      <th>1374</th>\n",
       "      <td>ff669174</td>\n",
       "      <td>0</td>\n",
       "      <td>Limiting car usage has many advantages. Such a...</td>\n",
       "      <td>Car-free cities</td>\n",
       "      <td>Write an explanatory essay to inform fellow ci...</td>\n",
       "      <td># In German Suburb, Life Goes On Without Cars ...</td>\n",
       "      <td>0</td>\n",
       "    </tr>\n",
       "    <tr>\n",
       "      <th>1375</th>\n",
       "      <td>ffa247e0</td>\n",
       "      <td>0</td>\n",
       "      <td>There's a new trend that has been developing f...</td>\n",
       "      <td>Car-free cities</td>\n",
       "      <td>Write an explanatory essay to inform fellow ci...</td>\n",
       "      <td># In German Suburb, Life Goes On Without Cars ...</td>\n",
       "      <td>0</td>\n",
       "    </tr>\n",
       "    <tr>\n",
       "      <th>1376</th>\n",
       "      <td>ffc237e9</td>\n",
       "      <td>0</td>\n",
       "      <td>As we all know cars are a big part of our soci...</td>\n",
       "      <td>Car-free cities</td>\n",
       "      <td>Write an explanatory essay to inform fellow ci...</td>\n",
       "      <td># In German Suburb, Life Goes On Without Cars ...</td>\n",
       "      <td>0</td>\n",
       "    </tr>\n",
       "    <tr>\n",
       "      <th>1377</th>\n",
       "      <td>ffe1ca0d</td>\n",
       "      <td>0</td>\n",
       "      <td>Cars have been around since the 1800's and hav...</td>\n",
       "      <td>Car-free cities</td>\n",
       "      <td>Write an explanatory essay to inform fellow ci...</td>\n",
       "      <td># In German Suburb, Life Goes On Without Cars ...</td>\n",
       "      <td>0</td>\n",
       "    </tr>\n",
       "  </tbody>\n",
       "</table>\n",
       "<p>1375 rows × 7 columns</p>\n",
       "</div>"
      ],
      "text/plain": [
       "            id  prompt_id                                               text  \\\n",
       "0     0059830c          0  Cars. Cars have been around since they became ...   \n",
       "1     005db917          0  Transportation is a large necessity in most co...   \n",
       "2     008f63e3          0  \"America's love affair with it's vehicles seem...   \n",
       "3     00940276          0  How often do you ride in a car? Do you drive a...   \n",
       "4     00c39458          0  Cars are a wonderful thing. They are perhaps o...   \n",
       "...        ...        ...                                                ...   \n",
       "1373  fe6ff9a5          1  There has been a fuss about the Elector Colleg...   \n",
       "1374  ff669174          0  Limiting car usage has many advantages. Such a...   \n",
       "1375  ffa247e0          0  There's a new trend that has been developing f...   \n",
       "1376  ffc237e9          0  As we all know cars are a big part of our soci...   \n",
       "1377  ffe1ca0d          0  Cars have been around since the 1800's and hav...   \n",
       "\n",
       "                           prompt_name  \\\n",
       "0                      Car-free cities   \n",
       "1                      Car-free cities   \n",
       "2                      Car-free cities   \n",
       "3                      Car-free cities   \n",
       "4                      Car-free cities   \n",
       "...                                ...   \n",
       "1373  Does the electoral college work?   \n",
       "1374                   Car-free cities   \n",
       "1375                   Car-free cities   \n",
       "1376                   Car-free cities   \n",
       "1377                   Car-free cities   \n",
       "\n",
       "                                           instructions  \\\n",
       "0     Write an explanatory essay to inform fellow ci...   \n",
       "1     Write an explanatory essay to inform fellow ci...   \n",
       "2     Write an explanatory essay to inform fellow ci...   \n",
       "3     Write an explanatory essay to inform fellow ci...   \n",
       "4     Write an explanatory essay to inform fellow ci...   \n",
       "...                                                 ...   \n",
       "1373  Write a letter to your state senator in which ...   \n",
       "1374  Write an explanatory essay to inform fellow ci...   \n",
       "1375  Write an explanatory essay to inform fellow ci...   \n",
       "1376  Write an explanatory essay to inform fellow ci...   \n",
       "1377  Write an explanatory essay to inform fellow ci...   \n",
       "\n",
       "                                            source_text  generated  \n",
       "0     # In German Suburb, Life Goes On Without Cars ...          0  \n",
       "1     # In German Suburb, Life Goes On Without Cars ...          0  \n",
       "2     # In German Suburb, Life Goes On Without Cars ...          0  \n",
       "3     # In German Suburb, Life Goes On Without Cars ...          0  \n",
       "4     # In German Suburb, Life Goes On Without Cars ...          0  \n",
       "...                                                 ...        ...  \n",
       "1373  # What Is the Electoral College? by the Office...          0  \n",
       "1374  # In German Suburb, Life Goes On Without Cars ...          0  \n",
       "1375  # In German Suburb, Life Goes On Without Cars ...          0  \n",
       "1376  # In German Suburb, Life Goes On Without Cars ...          0  \n",
       "1377  # In German Suburb, Life Goes On Without Cars ...          0  \n",
       "\n",
       "[1375 rows x 7 columns]"
      ]
     },
     "execution_count": 10,
     "metadata": {},
     "output_type": "execute_result"
    }
   ],
   "source": [
    "# the real data that written by student (not generated by LLMs)\n",
    "not_generated=train_data1[train_data1['generated']==0]\n",
    "not_generated"
   ]
  },
  {
   "cell_type": "markdown",
   "id": "3beda63e",
   "metadata": {
    "execution": {
     "iopub.execute_input": "2023-12-04T03:57:43.631452Z",
     "iopub.status.busy": "2023-12-04T03:57:43.630890Z",
     "iopub.status.idle": "2023-12-04T03:57:43.636535Z",
     "shell.execute_reply": "2023-12-04T03:57:43.635616Z",
     "shell.execute_reply.started": "2023-12-04T03:57:43.631410Z"
    },
    "papermill": {
     "duration": 0.017857,
     "end_time": "2023-12-07T18:27:15.313042",
     "exception": false,
     "start_time": "2023-12-07T18:27:15.295185",
     "status": "completed"
    },
    "tags": []
   },
   "source": [
    "## Data Augumentation:"
   ]
  },
  {
   "cell_type": "code",
   "execution_count": null,
   "id": "af0b9188",
   "metadata": {
    "papermill": {
     "duration": 0.018853,
     "end_time": "2023-12-07T18:27:15.350383",
     "exception": false,
     "start_time": "2023-12-07T18:27:15.331530",
     "status": "completed"
    },
    "tags": []
   },
   "outputs": [],
   "source": []
  },
  {
   "cell_type": "markdown",
   "id": "2f7bc33e",
   "metadata": {
    "papermill": {
     "duration": 0.017885,
     "end_time": "2023-12-07T18:27:15.386744",
     "exception": false,
     "start_time": "2023-12-07T18:27:15.368859",
     "status": "completed"
    },
    "tags": []
   },
   "source": []
  },
  {
   "cell_type": "markdown",
   "id": "83a92472",
   "metadata": {
    "papermill": {
     "duration": 0.018435,
     "end_time": "2023-12-07T18:27:15.423757",
     "exception": false,
     "start_time": "2023-12-07T18:27:15.405322",
     "status": "completed"
    },
    "tags": []
   },
   "source": [
    "Credit\n",
    "BPE Encoding based custom tokenizer by @datafan07\n",
    "\n",
    "Ertuğrul Demir - https://www.kaggle.com/code/datafan07/train-your-own-tokenizer\n",
    "\n",
    "Dataset: Augmented dataset by @jdragonxherrera https://www.kaggle.com/competitions/llm-detect-ai-generated-text/discussion/456729"
   ]
  },
  {
   "cell_type": "code",
   "execution_count": 11,
   "id": "a54a29b2",
   "metadata": {
    "execution": {
     "iopub.execute_input": "2023-12-07T18:27:15.461891Z",
     "iopub.status.busy": "2023-12-07T18:27:15.461496Z",
     "iopub.status.idle": "2023-12-07T18:27:15.694946Z",
     "shell.execute_reply": "2023-12-07T18:27:15.693784Z"
    },
    "papermill": {
     "duration": 0.25564,
     "end_time": "2023-12-07T18:27:15.697711",
     "exception": false,
     "start_time": "2023-12-07T18:27:15.442071",
     "status": "completed"
    },
    "tags": []
   },
   "outputs": [
    {
     "data": {
      "text/html": [
       "<div>\n",
       "<style scoped>\n",
       "    .dataframe tbody tr th:only-of-type {\n",
       "        vertical-align: middle;\n",
       "    }\n",
       "\n",
       "    .dataframe tbody tr th {\n",
       "        vertical-align: top;\n",
       "    }\n",
       "\n",
       "    .dataframe thead th {\n",
       "        text-align: right;\n",
       "    }\n",
       "</style>\n",
       "<table border=\"1\" class=\"dataframe\">\n",
       "  <thead>\n",
       "    <tr style=\"text-align: right;\">\n",
       "      <th></th>\n",
       "      <th>id</th>\n",
       "      <th>prompt_id</th>\n",
       "      <th>instructions</th>\n",
       "      <th>text</th>\n",
       "      <th>generated</th>\n",
       "    </tr>\n",
       "  </thead>\n",
       "  <tbody>\n",
       "    <tr>\n",
       "      <th>3292</th>\n",
       "      <td>gre_1136</td>\n",
       "      <td>GRE-633</td>\n",
       "      <td>Any decision-whether made by government, by a ...</td>\n",
       "      <td>In today's fast-paced world, decision-making i...</td>\n",
       "      <td>1</td>\n",
       "    </tr>\n",
       "    <tr>\n",
       "      <th>740</th>\n",
       "      <td>weccl_3973</td>\n",
       "      <td>WECCL-21</td>\n",
       "      <td>Which skill of English is more important for C...</td>\n",
       "      <td>I think reading is more important than speakin...</td>\n",
       "      <td>1</td>\n",
       "    </tr>\n",
       "    <tr>\n",
       "      <th>2399</th>\n",
       "      <td>toefl_1421</td>\n",
       "      <td>TOEFL11-01</td>\n",
       "      <td>It is better to have broad knowledge of many a...</td>\n",
       "      <td>In today's world, knowledge is power. The more...</td>\n",
       "      <td>1</td>\n",
       "    </tr>\n",
       "    <tr>\n",
       "      <th>2248</th>\n",
       "      <td>toefl_1206</td>\n",
       "      <td>TOEFL11-01</td>\n",
       "      <td>It is better to have broad knowledge of many a...</td>\n",
       "      <td>The debate on whether it is better to have bro...</td>\n",
       "      <td>1</td>\n",
       "    </tr>\n",
       "    <tr>\n",
       "      <th>2084</th>\n",
       "      <td>toefl_1013</td>\n",
       "      <td>TOEFL11-03</td>\n",
       "      <td>Young people nowadays do not give enough time ...</td>\n",
       "      <td>In recent years, it'seems that young people ar...</td>\n",
       "      <td>1</td>\n",
       "    </tr>\n",
       "    <tr>\n",
       "      <th>...</th>\n",
       "      <td>...</td>\n",
       "      <td>...</td>\n",
       "      <td>...</td>\n",
       "      <td>...</td>\n",
       "      <td>...</td>\n",
       "    </tr>\n",
       "    <tr>\n",
       "      <th>3686</th>\n",
       "      <td>gre_538</td>\n",
       "      <td>GRE-627</td>\n",
       "      <td>Society should identify those children who hav...</td>\n",
       "      <td>I agree that society should identify those chi...</td>\n",
       "      <td>1</td>\n",
       "    </tr>\n",
       "    <tr>\n",
       "      <th>914</th>\n",
       "      <td>weccl_1278</td>\n",
       "      <td>WECCL-08</td>\n",
       "      <td>In the western world, if a family member has g...</td>\n",
       "      <td>There is no one-size-fits-all answer to this q...</td>\n",
       "      <td>1</td>\n",
       "    </tr>\n",
       "    <tr>\n",
       "      <th>3875</th>\n",
       "      <td>toefl_531</td>\n",
       "      <td>TOEFL11-05</td>\n",
       "      <td>In twenty years, there will be fewer cars in u...</td>\n",
       "      <td>I agree that in twenty years there will be few...</td>\n",
       "      <td>1</td>\n",
       "    </tr>\n",
       "    <tr>\n",
       "      <th>2851</th>\n",
       "      <td>gre_597</td>\n",
       "      <td>GRE-005</td>\n",
       "      <td>Colleges and universities should require all f...</td>\n",
       "      <td>In today's rapidly changing world, education i...</td>\n",
       "      <td>1</td>\n",
       "    </tr>\n",
       "    <tr>\n",
       "      <th>1788</th>\n",
       "      <td>toefl_608</td>\n",
       "      <td>TOEFL11-07</td>\n",
       "      <td>It is more important for students to understan...</td>\n",
       "      <td>I agree that it is more important for students...</td>\n",
       "      <td>1</td>\n",
       "    </tr>\n",
       "  </tbody>\n",
       "</table>\n",
       "<p>4038 rows × 5 columns</p>\n",
       "</div>"
      ],
      "text/plain": [
       "              id   prompt_id  \\\n",
       "3292    gre_1136     GRE-633   \n",
       "740   weccl_3973    WECCL-21   \n",
       "2399  toefl_1421  TOEFL11-01   \n",
       "2248  toefl_1206  TOEFL11-01   \n",
       "2084  toefl_1013  TOEFL11-03   \n",
       "...          ...         ...   \n",
       "3686     gre_538     GRE-627   \n",
       "914   weccl_1278    WECCL-08   \n",
       "3875   toefl_531  TOEFL11-05   \n",
       "2851     gre_597     GRE-005   \n",
       "1788   toefl_608  TOEFL11-07   \n",
       "\n",
       "                                           instructions  \\\n",
       "3292  Any decision-whether made by government, by a ...   \n",
       "740   Which skill of English is more important for C...   \n",
       "2399  It is better to have broad knowledge of many a...   \n",
       "2248  It is better to have broad knowledge of many a...   \n",
       "2084  Young people nowadays do not give enough time ...   \n",
       "...                                                 ...   \n",
       "3686  Society should identify those children who hav...   \n",
       "914   In the western world, if a family member has g...   \n",
       "3875  In twenty years, there will be fewer cars in u...   \n",
       "2851  Colleges and universities should require all f...   \n",
       "1788  It is more important for students to understan...   \n",
       "\n",
       "                                                   text generated  \n",
       "3292  In today's fast-paced world, decision-making i...         1  \n",
       "740   I think reading is more important than speakin...         1  \n",
       "2399  In today's world, knowledge is power. The more...         1  \n",
       "2248  The debate on whether it is better to have bro...         1  \n",
       "2084  In recent years, it'seems that young people ar...         1  \n",
       "...                                                 ...       ...  \n",
       "3686  I agree that society should identify those chi...         1  \n",
       "914   There is no one-size-fits-all answer to this q...         1  \n",
       "3875  I agree that in twenty years there will be few...         1  \n",
       "2851  In today's rapidly changing world, education i...         1  \n",
       "1788  I agree that it is more important for students...         1  \n",
       "\n",
       "[4038 rows x 5 columns]"
      ]
     },
     "execution_count": 11,
     "metadata": {},
     "output_type": "execute_result"
    }
   ],
   "source": [
    "import pandas as pd\n",
    "\n",
    "argugpt=pd.read_csv('/kaggle/input/argugpt/argugpt.csv')\n",
    "argugpt.loc[: , 'model']=1\n",
    "argugpt=argugpt.iloc[:, :5]\n",
    "\n",
    "# renaming the columns: generated <- model and instructions <- prompt \n",
    "argugpt=argugpt.rename(columns={'model': 'generated', 'prompt': 'instructions'})\n",
    "\n",
    "# Shuffle the rows of DataFrame\n",
    "argugpt=argugpt.sample(frac=1.)\n",
    "argugpt\n",
    "#machine_train=pd.read_csv('/kaggle/input/argugpt/machine-train.csv').iloc[:, :5].sample(frac=1.)\n",
    "#machine_train"
   ]
  },
  {
   "cell_type": "code",
   "execution_count": 12,
   "id": "560dcfa1",
   "metadata": {
    "execution": {
     "iopub.execute_input": "2023-12-07T18:27:15.737213Z",
     "iopub.status.busy": "2023-12-07T18:27:15.736782Z",
     "iopub.status.idle": "2023-12-07T18:27:15.760467Z",
     "shell.execute_reply": "2023-12-07T18:27:15.759335Z"
    },
    "papermill": {
     "duration": 0.046191,
     "end_time": "2023-12-07T18:27:15.763030",
     "exception": false,
     "start_time": "2023-12-07T18:27:15.716839",
     "status": "completed"
    },
    "tags": []
   },
   "outputs": [
    {
     "data": {
      "text/html": [
       "<div>\n",
       "<style scoped>\n",
       "    .dataframe tbody tr th:only-of-type {\n",
       "        vertical-align: middle;\n",
       "    }\n",
       "\n",
       "    .dataframe tbody tr th {\n",
       "        vertical-align: top;\n",
       "    }\n",
       "\n",
       "    .dataframe thead th {\n",
       "        text-align: right;\n",
       "    }\n",
       "</style>\n",
       "<table border=\"1\" class=\"dataframe\">\n",
       "  <thead>\n",
       "    <tr style=\"text-align: right;\">\n",
       "      <th></th>\n",
       "      <th>id</th>\n",
       "      <th>prompt_id</th>\n",
       "      <th>instructions</th>\n",
       "      <th>text</th>\n",
       "      <th>generated</th>\n",
       "    </tr>\n",
       "  </thead>\n",
       "  <tbody>\n",
       "    <tr>\n",
       "      <th>958</th>\n",
       "      <td>weccl_1756</td>\n",
       "      <td>WECCL-08</td>\n",
       "      <td>In the western world, if a family member has g...</td>\n",
       "      <td>It is true that in the Chinese culture, the tr...</td>\n",
       "      <td>1</td>\n",
       "    </tr>\n",
       "    <tr>\n",
       "      <th>1108</th>\n",
       "      <td>c9fdddd7</td>\n",
       "      <td>0</td>\n",
       "      <td>Write an explanatory essay to inform fellow ci...</td>\n",
       "      <td>Automobiles have proved to be very convenient ...</td>\n",
       "      <td>0</td>\n",
       "    </tr>\n",
       "    <tr>\n",
       "      <th>1982</th>\n",
       "      <td>toefl_886</td>\n",
       "      <td>TOEFL11-07</td>\n",
       "      <td>It is more important for students to understan...</td>\n",
       "      <td>There is no easy answer when it comes to the q...</td>\n",
       "      <td>1</td>\n",
       "    </tr>\n",
       "    <tr>\n",
       "      <th>67</th>\n",
       "      <td>0d9b0568</td>\n",
       "      <td>0</td>\n",
       "      <td>Write an explanatory essay to inform fellow ci...</td>\n",
       "      <td>Car usage all over the world has reduced and b...</td>\n",
       "      <td>0</td>\n",
       "    </tr>\n",
       "    <tr>\n",
       "      <th>936</th>\n",
       "      <td>weccl_1579</td>\n",
       "      <td>WECCL-08</td>\n",
       "      <td>In the western world, if a family member has g...</td>\n",
       "      <td>In the western world, if a family member has g...</td>\n",
       "      <td>1</td>\n",
       "    </tr>\n",
       "    <tr>\n",
       "      <th>...</th>\n",
       "      <td>...</td>\n",
       "      <td>...</td>\n",
       "      <td>...</td>\n",
       "      <td>...</td>\n",
       "      <td>...</td>\n",
       "    </tr>\n",
       "    <tr>\n",
       "      <th>332</th>\n",
       "      <td>weccl_3353</td>\n",
       "      <td>WECCL-02</td>\n",
       "      <td>Some people think that education is a life-lon...</td>\n",
       "      <td>I think that education is a life-long process....</td>\n",
       "      <td>1</td>\n",
       "    </tr>\n",
       "    <tr>\n",
       "      <th>1331</th>\n",
       "      <td>weccl_2685</td>\n",
       "      <td>WECCL-06</td>\n",
       "      <td>Does modern technology make life more convenie...</td>\n",
       "      <td>Modern technology has undeniably made life mor...</td>\n",
       "      <td>1</td>\n",
       "    </tr>\n",
       "    <tr>\n",
       "      <th>3395</th>\n",
       "      <td>weccl_4253</td>\n",
       "      <td>WECCL-08</td>\n",
       "      <td>In the western world, if a family member has g...</td>\n",
       "      <td>Recently, cancer has been the leading cause of...</td>\n",
       "      <td>1</td>\n",
       "    </tr>\n",
       "    <tr>\n",
       "      <th>481</th>\n",
       "      <td>5f019f6d</td>\n",
       "      <td>1</td>\n",
       "      <td>Write a letter to your state senator in which ...</td>\n",
       "      <td>Dear senator, My associates and I, have though...</td>\n",
       "      <td>0</td>\n",
       "    </tr>\n",
       "    <tr>\n",
       "      <th>957</th>\n",
       "      <td>ac4e7c45</td>\n",
       "      <td>1</td>\n",
       "      <td>Write a letter to your state senator in which ...</td>\n",
       "      <td>The Electoral College is a process put into pl...</td>\n",
       "      <td>0</td>\n",
       "    </tr>\n",
       "  </tbody>\n",
       "</table>\n",
       "<p>5416 rows × 5 columns</p>\n",
       "</div>"
      ],
      "text/plain": [
       "              id   prompt_id  \\\n",
       "958   weccl_1756    WECCL-08   \n",
       "1108    c9fdddd7           0   \n",
       "1982   toefl_886  TOEFL11-07   \n",
       "67      0d9b0568           0   \n",
       "936   weccl_1579    WECCL-08   \n",
       "...          ...         ...   \n",
       "332   weccl_3353    WECCL-02   \n",
       "1331  weccl_2685    WECCL-06   \n",
       "3395  weccl_4253    WECCL-08   \n",
       "481     5f019f6d           1   \n",
       "957     ac4e7c45           1   \n",
       "\n",
       "                                           instructions  \\\n",
       "958   In the western world, if a family member has g...   \n",
       "1108  Write an explanatory essay to inform fellow ci...   \n",
       "1982  It is more important for students to understan...   \n",
       "67    Write an explanatory essay to inform fellow ci...   \n",
       "936   In the western world, if a family member has g...   \n",
       "...                                                 ...   \n",
       "332   Some people think that education is a life-lon...   \n",
       "1331  Does modern technology make life more convenie...   \n",
       "3395  In the western world, if a family member has g...   \n",
       "481   Write a letter to your state senator in which ...   \n",
       "957   Write a letter to your state senator in which ...   \n",
       "\n",
       "                                                   text generated  \n",
       "958   It is true that in the Chinese culture, the tr...         1  \n",
       "1108  Automobiles have proved to be very convenient ...         0  \n",
       "1982  There is no easy answer when it comes to the q...         1  \n",
       "67    Car usage all over the world has reduced and b...         0  \n",
       "936   In the western world, if a family member has g...         1  \n",
       "...                                                 ...       ...  \n",
       "332   I think that education is a life-long process....         1  \n",
       "1331  Modern technology has undeniably made life mor...         1  \n",
       "3395  Recently, cancer has been the leading cause of...         1  \n",
       "481   Dear senator, My associates and I, have though...         0  \n",
       "957   The Electoral College is a process put into pl...         0  \n",
       "\n",
       "[5416 rows x 5 columns]"
      ]
     },
     "execution_count": 12,
     "metadata": {},
     "output_type": "execute_result"
    }
   ],
   "source": [
    "# in the first train data we drop out the columns prompt_name source_text_id columns\n",
    "#train_data1.drop(columns=['prompt_name', 'source_text'], inplace=True)\n",
    "train_data1=train_data1[['id', 'prompt_id', 'instructions', 'text', 'generated']]\n",
    "#train_data1=train_data.sample(frac=1)\n",
    "#train_data1\n",
    "\n",
    "# concatenate the the two dataframe\n",
    "data=pd.concat([train_data1,argugpt])\n",
    "data=data.sample(frac=1.)\n",
    "\n",
    "data"
   ]
  },
  {
   "cell_type": "markdown",
   "id": "4c643462",
   "metadata": {
    "execution": {
     "iopub.execute_input": "2023-12-01T03:01:41.153127Z",
     "iopub.status.busy": "2023-12-01T03:01:41.152747Z",
     "iopub.status.idle": "2023-12-01T03:01:41.159440Z",
     "shell.execute_reply": "2023-12-01T03:01:41.157836Z",
     "shell.execute_reply.started": "2023-12-01T03:01:41.153097Z"
    },
    "papermill": {
     "duration": 0.018535,
     "end_time": "2023-12-07T18:27:15.800724",
     "exception": false,
     "start_time": "2023-12-07T18:27:15.782189",
     "status": "completed"
    },
    "tags": []
   },
   "source": [
    "## Data Analysis:"
   ]
  },
  {
   "cell_type": "code",
   "execution_count": 13,
   "id": "0309d44c",
   "metadata": {
    "execution": {
     "iopub.execute_input": "2023-12-07T18:27:15.841141Z",
     "iopub.status.busy": "2023-12-07T18:27:15.840700Z",
     "iopub.status.idle": "2023-12-07T18:27:15.853454Z",
     "shell.execute_reply": "2023-12-07T18:27:15.852229Z"
    },
    "papermill": {
     "duration": 0.035992,
     "end_time": "2023-12-07T18:27:15.855684",
     "exception": false,
     "start_time": "2023-12-07T18:27:15.819692",
     "status": "completed"
    },
    "tags": []
   },
   "outputs": [
    {
     "data": {
      "text/html": [
       "<div>\n",
       "<style scoped>\n",
       "    .dataframe tbody tr th:only-of-type {\n",
       "        vertical-align: middle;\n",
       "    }\n",
       "\n",
       "    .dataframe tbody tr th {\n",
       "        vertical-align: top;\n",
       "    }\n",
       "\n",
       "    .dataframe thead th {\n",
       "        text-align: right;\n",
       "    }\n",
       "</style>\n",
       "<table border=\"1\" class=\"dataframe\">\n",
       "  <thead>\n",
       "    <tr style=\"text-align: right;\">\n",
       "      <th></th>\n",
       "      <th>id</th>\n",
       "      <th>prompt_id</th>\n",
       "      <th>text</th>\n",
       "      <th>generated</th>\n",
       "    </tr>\n",
       "  </thead>\n",
       "  <tbody>\n",
       "  </tbody>\n",
       "</table>\n",
       "</div>"
      ],
      "text/plain": [
       "Empty DataFrame\n",
       "Columns: [id, prompt_id, text, generated]\n",
       "Index: []"
      ]
     },
     "execution_count": 13,
     "metadata": {},
     "output_type": "execute_result"
    }
   ],
   "source": [
    "generated=train_essays[train_essays['text']==1]\n",
    "not_generated=train_essays[train_essays['text']==0]\n",
    "generated\n",
    "# train_essays"
   ]
  },
  {
   "cell_type": "code",
   "execution_count": 14,
   "id": "a61f61e8",
   "metadata": {
    "execution": {
     "iopub.execute_input": "2023-12-07T18:27:15.896679Z",
     "iopub.status.busy": "2023-12-07T18:27:15.896249Z",
     "iopub.status.idle": "2023-12-07T18:27:22.611029Z",
     "shell.execute_reply": "2023-12-07T18:27:22.609799Z"
    },
    "papermill": {
     "duration": 6.738717,
     "end_time": "2023-12-07T18:27:22.613823",
     "exception": false,
     "start_time": "2023-12-07T18:27:15.875106",
     "status": "completed"
    },
    "tags": []
   },
   "outputs": [
    {
     "data": {
      "image/png": "[encoded data removed]",
      "text/plain": [
       "<Figure size 640x480 with 1 Axes>"
      ]
     },
     "metadata": {},
     "output_type": "display_data"
    },
    {
     "data": {
      "image/png": "[encoded data removed]",
      "text/plain": [
       "<Figure size 640x480 with 1 Axes>"
      ]
     },
     "metadata": {},
     "output_type": "display_data"
    }
   ],
   "source": [
    "import matplotlib.pyplot as plt\n",
    "import pandas as pd\n",
    "\n",
    "\n",
    "feature_names=['prompt_id', 'generated']\n",
    "for feature in feature_names:\n",
    "    data[feature].value_counts(ascending=False).plot.barh()\n",
    "    plt.title('Frequency of'+ ' ' +str(feature)+ ' '+'Classes')\n",
    "    plt.show()"
   ]
  },
  {
   "cell_type": "markdown",
   "id": "a173d71e",
   "metadata": {
    "papermill": {
     "duration": 0.020037,
     "end_time": "2023-12-07T18:27:22.655128",
     "exception": false,
     "start_time": "2023-12-07T18:27:22.635091",
     "status": "completed"
    },
    "tags": []
   },
   "source": [
    "## Modeling:"
   ]
  },
  {
   "cell_type": "markdown",
   "id": "821d4edb",
   "metadata": {
    "execution": {
     "iopub.execute_input": "2023-12-04T03:58:44.682368Z",
     "iopub.status.busy": "2023-12-04T03:58:44.681988Z",
     "iopub.status.idle": "2023-12-04T03:58:44.687391Z",
     "shell.execute_reply": "2023-12-04T03:58:44.686184Z",
     "shell.execute_reply.started": "2023-12-04T03:58:44.682339Z"
    },
    "papermill": {
     "duration": 0.030137,
     "end_time": "2023-12-07T18:27:22.708966",
     "exception": false,
     "start_time": "2023-12-07T18:27:22.678829",
     "status": "completed"
    },
    "tags": []
   },
   "source": [
    "## Tokeninzing The Data:"
   ]
  },
  {
   "cell_type": "code",
   "execution_count": 15,
   "id": "aca0971b",
   "metadata": {
    "execution": {
     "iopub.execute_input": "2023-12-07T18:27:22.757859Z",
     "iopub.status.busy": "2023-12-07T18:27:22.757007Z",
     "iopub.status.idle": "2023-12-07T18:27:22.770240Z",
     "shell.execute_reply": "2023-12-07T18:27:22.768904Z"
    },
    "papermill": {
     "duration": 0.039067,
     "end_time": "2023-12-07T18:27:22.772804",
     "exception": false,
     "start_time": "2023-12-07T18:27:22.733737",
     "status": "completed"
    },
    "tags": []
   },
   "outputs": [],
   "source": [
    "\n",
    "from keras.preprocessing.text import Tokenizer\n",
    "import numpy as np\n",
    "import tensorflow as tf\n",
    "\n",
    "\n",
    "def preprocessing1(data):\n",
    "    \n",
    "    # Tokenizer nedded to transform raw texts into a sequences of tokens\n",
    "    from keras.preprocessing.text import Tokenizer\n",
    "    \n",
    "    # the following two lines is for configuration purposes\n",
    "    from tensorflow.python.ops.numpy_ops import np_config\n",
    "    np_config.enable_numpy_behavior()\n",
    "    \n",
    "    # extracting the raw texts from the data\n",
    "    texts=data['text']\n",
    "  \n",
    "    # convert the target pandas.Dataframe ( the lael) to np.ndarray\n",
    "    y_train=data['generated'].to_numpy()\n",
    "    \n",
    "\n",
    "    # create an Tokenizer object\n",
    "    tokenizer=Tokenizer()\n",
    "\n",
    "    # train the the tolkenizer on the samples\n",
    "    tokenizer.fit_on_texts(texts)\n",
    "\n",
    "    sequences=tokenizer.texts_to_sequences(texts)\n",
    "    #sequences\n",
    "\n",
    "\n",
    "    X_train=tokenizer.texts_to_matrix(texts)\n",
    "    \n",
    "    # convert np.dtype to suitable form to convert them later in tensors\n",
    "    X_train = X_train.astype(np.float32)\n",
    "    y_train =y_train.astype(np.float32)\n",
    "    \n",
    "    # convert np.ndarray into tensors\n",
    "    X_train=tf.convert_to_tensor(X_train)\n",
    "    y_train=tf.convert_to_tensor(y_train)\n",
    "    \n",
    "    return X_train, y_train\n",
    "\n",
    "#-------------------------------------------------------------------------\n",
    "\n",
    "\n",
    "def preprocessing2(data):\n",
    "    \n",
    "    ##Tokenizer nedded to transform raw texts into a sequences of tokens\n",
    "    from keras.preprocessing.text import Tokenizer\n",
    "    \n",
    "    # the following two lines is for configuration purposes\n",
    "    from tensorflow.python.ops.numpy_ops import np_config\n",
    "    np_config.enable_numpy_behavior()\n",
    "    \n",
    "    # extracting the raw texts from the data\n",
    "    texts=data['text']\n",
    "    \n",
    "\n",
    "    # create an Tokenizer object\n",
    "    tokenizer=Tokenizer()\n",
    "\n",
    "    # train the the tolkenizer on the samples\n",
    "    tokenizer.fit_on_texts(texts)\n",
    "\n",
    "    sequences=tokenizer.texts_to_sequences(texts)\n",
    "    #sequences\n",
    "\n",
    "    # texts to matrix with 'tfidf' mode\n",
    "    X_train=tokenizer.texts_to_matrix(texts)\n",
    "    \n",
    "    # convert np.dtype to suitable form to convert them later in tensors\n",
    "    X_train = X_train.astype(np.float32)\n",
    "    \n",
    "    # convert np.ndarray into tensors\n",
    "    X_train=tf.convert_to_tensor(X_train)\n",
    "   \n",
    "    \n",
    "    return X_train\n",
    "\n",
    "\n",
    "\n",
    "\n",
    "\n"
   ]
  },
  {
   "cell_type": "code",
   "execution_count": 16,
   "id": "14983fe8",
   "metadata": {
    "execution": {
     "iopub.execute_input": "2023-12-07T18:27:22.820391Z",
     "iopub.status.busy": "2023-12-07T18:27:22.819560Z",
     "iopub.status.idle": "2023-12-07T18:27:35.865266Z",
     "shell.execute_reply": "2023-12-07T18:27:35.863860Z"
    },
    "papermill": {
     "duration": 13.070314,
     "end_time": "2023-12-07T18:27:35.867904",
     "exception": false,
     "start_time": "2023-12-07T18:27:22.797590",
     "status": "completed"
    },
    "tags": []
   },
   "outputs": [
    {
     "data": {
      "text/plain": [
       "((5416, 23094), (3, 23094))"
      ]
     },
     "execution_count": 16,
     "metadata": {},
     "output_type": "execute_result"
    }
   ],
   "source": [
    "\n",
    "test=pd.read_csv('/kaggle/input/llm-detect-ai-generated-text/test_essays.csv')\n",
    "\n",
    "X_train, y_train= preprocessing1(data)#, mode='tfidf')\n",
    "X_test= preprocessing2(test)#, mode='skip')\n",
    "\n",
    "X_train=keras.preprocessing.sequence.pad_sequences(X_train)\n",
    "X_test=keras.preprocessing.sequence.pad_sequences(X_test, maxlen = 23094)\n",
    "X_train.shape, X_test.shape"
   ]
  },
  {
   "cell_type": "code",
   "execution_count": null,
   "id": "5230cb63",
   "metadata": {
    "papermill": {
     "duration": 0.020204,
     "end_time": "2023-12-07T18:27:35.909872",
     "exception": false,
     "start_time": "2023-12-07T18:27:35.889668",
     "status": "completed"
    },
    "tags": []
   },
   "outputs": [],
   "source": []
  },
  {
   "cell_type": "code",
   "execution_count": null,
   "id": "0162b055",
   "metadata": {
    "papermill": {
     "duration": 0.020769,
     "end_time": "2023-12-07T18:27:35.951157",
     "exception": false,
     "start_time": "2023-12-07T18:27:35.930388",
     "status": "completed"
    },
    "tags": []
   },
   "outputs": [],
   "source": []
  },
  {
   "cell_type": "code",
   "execution_count": 17,
   "id": "dd01f606",
   "metadata": {
    "execution": {
     "iopub.execute_input": "2023-12-07T18:27:35.995788Z",
     "iopub.status.busy": "2023-12-07T18:27:35.995349Z",
     "iopub.status.idle": "2023-12-07T18:27:36.003408Z",
     "shell.execute_reply": "2023-12-07T18:27:36.001960Z"
    },
    "papermill": {
     "duration": 0.033625,
     "end_time": "2023-12-07T18:27:36.006077",
     "exception": false,
     "start_time": "2023-12-07T18:27:35.972452",
     "status": "completed"
    },
    "tags": []
   },
   "outputs": [
    {
     "data": {
      "text/plain": [
       "((5416, 23094), TensorShape([5416]))"
      ]
     },
     "execution_count": 17,
     "metadata": {},
     "output_type": "execute_result"
    }
   ],
   "source": [
    "X_train.shape, y_train.shape"
   ]
  },
  {
   "cell_type": "code",
   "execution_count": 18,
   "id": "09aa07c5",
   "metadata": {
    "execution": {
     "iopub.execute_input": "2023-12-07T18:27:36.050089Z",
     "iopub.status.busy": "2023-12-07T18:27:36.049586Z",
     "iopub.status.idle": "2023-12-07T18:28:28.491088Z",
     "shell.execute_reply": "2023-12-07T18:28:28.489726Z"
    },
    "papermill": {
     "duration": 52.466979,
     "end_time": "2023-12-07T18:28:28.494148",
     "exception": false,
     "start_time": "2023-12-07T18:27:36.027169",
     "status": "completed"
    },
    "tags": []
   },
   "outputs": [
    {
     "name": "stdout",
     "output_type": "stream",
     "text": [
      "Epoch 1/2\n",
      "170/170 [==============================] - 26s 149ms/step - loss: 0.6158 - accuracy: 0.9105\n",
      "Epoch 2/2\n",
      "170/170 [==============================] - 25s 150ms/step - loss: 0.0060 - accuracy: 0.9982\n"
     ]
    }
   ],
   "source": [
    "import keras\n",
    "\n",
    "# build a simple model\n",
    "from keras.models import Sequential\n",
    "from keras.layers import Embedding, Dense, Flatten\n",
    "\n",
    "def build_model():\n",
    "    \n",
    "    model=Sequential(name='simple_model')\n",
    "\n",
    "    model.add(Embedding(input_dim=200, \n",
    "                   output_dim=32\n",
    "                   ,input_length=23094))\n",
    "\n",
    "    model.add(Flatten())\n",
    "    model.add(Dense(1, activation='sigmoid'))\n",
    "\n",
    "    # compile the model\n",
    "    model.compile(optimizer='rmsprop', loss='binary_crossentropy',\n",
    "                                   metrics=['accuracy'])\n",
    "    \n",
    "    return model\n",
    "\n",
    "model=build_model()\n",
    "\n",
    "# fitting the model\n",
    "history=model.fit(X_train, y_train, epochs=2,  batch_size=32)"
   ]
  },
  {
   "cell_type": "code",
   "execution_count": 19,
   "id": "dfe657a4",
   "metadata": {
    "execution": {
     "iopub.execute_input": "2023-12-07T18:28:28.604211Z",
     "iopub.status.busy": "2023-12-07T18:28:28.603048Z",
     "iopub.status.idle": "2023-12-07T18:28:28.767735Z",
     "shell.execute_reply": "2023-12-07T18:28:28.766503Z"
    },
    "papermill": {
     "duration": 0.221897,
     "end_time": "2023-12-07T18:28:28.770329",
     "exception": false,
     "start_time": "2023-12-07T18:28:28.548432",
     "status": "completed"
    },
    "tags": []
   },
   "outputs": [
    {
     "name": "stdout",
     "output_type": "stream",
     "text": [
      "1/1 [==============================] - 0s 100ms/step\n"
     ]
    },
    {
     "data": {
      "text/plain": [
       "array([[0.99987864],\n",
       "       [0.9998785 ],\n",
       "       [0.9998788 ]], dtype=float32)"
      ]
     },
     "execution_count": 19,
     "metadata": {},
     "output_type": "execute_result"
    }
   ],
   "source": [
    "import pandas as pd\n",
    "# the following two lines is for configuration purposes\n",
    "from tensorflow.python.ops.numpy_ops import np_config\n",
    "np_config.enable_numpy_behavior()\n",
    "\n",
    "\n",
    "preds=model.predict(X_test)\n",
    "preds\n",
    "\n",
    "#submission=pd.read_csv('/kaggle/input/llm-detect-ai-generated-text/sample_submission.csv')\n",
    "#submission\n",
    "#X_test=X_test['text'].to_numpy().astype(np.float32)\n",
    "\n",
    "#X_test=tf.convert_to_tensor(X_test)\n",
    "\n",
    "\n",
    "#preds=model.predict(X_test)\n",
    "#preds.shape\n",
    "\n",
    "#sumission=pd.read_csv('/kaggle/input/llm-detect-ai-generated-text/sample_submission.csv')\n",
    "\n",
    "#submision['generated']=submision['generated'].to_numy().astypy(np.float32).convert_to_tensor(submision['generated'])\n",
    "#submision['generated']=preds\n",
    "#submission=pd.read_csv('/kaggle/input/llm-detect-ai-generated-text/sample_submission.csv')\n",
    "#submission[]\n",
    "#X_test=preprocessing(test, mode='tfidf')[0]\n",
    "#preds=model.predict(X_test)[:,]\n",
    "#preds\n",
    "#preds\n",
    "#test['generated']=preds\n",
    "#submission=pd.DataFrame({'id': test['id'],\n",
    "#                       'generated': test['generated']})"
   ]
  },
  {
   "cell_type": "markdown",
   "id": "ffa3f07d",
   "metadata": {
    "execution": {
     "iopub.execute_input": "2023-12-07T16:47:58.438093Z",
     "iopub.status.busy": "2023-12-07T16:47:58.437394Z",
     "iopub.status.idle": "2023-12-07T16:47:58.444177Z",
     "shell.execute_reply": "2023-12-07T16:47:58.442479Z",
     "shell.execute_reply.started": "2023-12-07T16:47:58.438026Z"
    },
    "papermill": {
     "duration": 0.053891,
     "end_time": "2023-12-07T18:28:28.877347",
     "exception": false,
     "start_time": "2023-12-07T18:28:28.823456",
     "status": "completed"
    },
    "tags": []
   },
   "source": []
  },
  {
   "cell_type": "code",
   "execution_count": null,
   "id": "77856027",
   "metadata": {
    "papermill": {
     "duration": 0.052567,
     "end_time": "2023-12-07T18:28:28.983839",
     "exception": false,
     "start_time": "2023-12-07T18:28:28.931272",
     "status": "completed"
    },
    "tags": []
   },
   "outputs": [],
   "source": []
  },
  {
   "cell_type": "code",
   "execution_count": 20,
   "id": "b4de7a56",
   "metadata": {
    "execution": {
     "iopub.execute_input": "2023-12-07T18:28:29.092025Z",
     "iopub.status.busy": "2023-12-07T18:28:29.090799Z",
     "iopub.status.idle": "2023-12-07T18:28:29.099858Z",
     "shell.execute_reply": "2023-12-07T18:28:29.098744Z"
    },
    "papermill": {
     "duration": 0.065127,
     "end_time": "2023-12-07T18:28:29.102187",
     "exception": false,
     "start_time": "2023-12-07T18:28:29.037060",
     "status": "completed"
    },
    "tags": []
   },
   "outputs": [
    {
     "data": {
      "text/plain": [
       "\"\\nX_train.shape, y_train.shape\\ntest_essays=pd.read_csv('/kaggle/input/llm-detect-ai-generated-text/test_essays.csv')\\ntest_essays\\n\\n###########################--------------------------##############################\\n\\n# tokeninzing with keras API\\nfrom keras.preprocessing.text import Tokenizer\\nimport numpy as np\\nimport tensorflow as tf\\n\\nfrom tensorflow.python.ops.numpy_ops import np_config\\nnp_config.enable_numpy_behavior()\\n\\ntexts=train_data1['text']\\n#texts\\n\\ny_train=train_data1['generated'].to_numpy()\\n\\n# create an Tokenizer object\\ntokenizer=Tokenizer()\\n\\n# train the the tolkenizer on the samples\\ntokenizer.fit_on_texts(texts)\\n\\n#sequences=tokenizer.texts_to_sequences(texts)\\n#sequences\\n\\n# texts to matrix\\nX_train=tokenizer.texts_to_matrix(texts, mode='tfidf')\\nX_train = X_train.astype(np.float32)\\ny_train =y_train.astype(np.float32)\\n\\nX_train=tf.convert_to_tensor(X_train)\\ny_train=tf.convert_to_tensor(y_train)\\n\\n\\n\\n\\n#########################----------------------------------#########################\\n\\nX_train.shape, y_train.shape\\n#y_pred_proba=model.predict(X_train)\\n#y_pred_proba\\n\\n\""
      ]
     },
     "execution_count": 20,
     "metadata": {},
     "output_type": "execute_result"
    }
   ],
   "source": [
    "'''\n",
    "X_train.shape, y_train.shape\n",
    "test_essays=pd.read_csv('/kaggle/input/llm-detect-ai-generated-text/test_essays.csv')\n",
    "test_essays\n",
    "\n",
    "###########################--------------------------##############################\n",
    "\n",
    "# tokeninzing with keras API\n",
    "from keras.preprocessing.text import Tokenizer\n",
    "import numpy as np\n",
    "import tensorflow as tf\n",
    "\n",
    "from tensorflow.python.ops.numpy_ops import np_config\n",
    "np_config.enable_numpy_behavior()\n",
    "\n",
    "texts=train_data1['text']\n",
    "#texts\n",
    "\n",
    "y_train=train_data1['generated'].to_numpy()\n",
    "\n",
    "# create an Tokenizer object\n",
    "tokenizer=Tokenizer()\n",
    "\n",
    "# train the the tolkenizer on the samples\n",
    "tokenizer.fit_on_texts(texts)\n",
    "\n",
    "#sequences=tokenizer.texts_to_sequences(texts)\n",
    "#sequences\n",
    "\n",
    "# texts to matrix\n",
    "X_train=tokenizer.texts_to_matrix(texts, mode='tfidf')\n",
    "X_train = X_train.astype(np.float32)\n",
    "y_train =y_train.astype(np.float32)\n",
    "\n",
    "X_train=tf.convert_to_tensor(X_train)\n",
    "y_train=tf.convert_to_tensor(y_train)\n",
    "\n",
    "\n",
    "\n",
    "\n",
    "#########################----------------------------------#########################\n",
    "\n",
    "X_train.shape, y_train.shape\n",
    "#y_pred_proba=model.predict(X_train)\n",
    "#y_pred_proba\n",
    "\n",
    "'''"
   ]
  },
  {
   "cell_type": "code",
   "execution_count": 21,
   "id": "64e5bf8e",
   "metadata": {
    "execution": {
     "iopub.execute_input": "2023-12-07T18:28:29.210472Z",
     "iopub.status.busy": "2023-12-07T18:28:29.209611Z",
     "iopub.status.idle": "2023-12-07T18:28:29.219335Z",
     "shell.execute_reply": "2023-12-07T18:28:29.218203Z"
    },
    "papermill": {
     "duration": 0.066501,
     "end_time": "2023-12-07T18:28:29.221612",
     "exception": false,
     "start_time": "2023-12-07T18:28:29.155111",
     "status": "completed"
    },
    "tags": []
   },
   "outputs": [
    {
     "data": {
      "text/plain": [
       "\"\\nimport pandas as pd\\nfrom sklearn.feature_extraction.text import TfidfVectorizer\\nfrom sklearn.naive_bayes import MultinomialNB\\nfrom tensorflow.keras.preprocessing.text import Tokenizer\\n\\ndef tokenize(df:pd.DataFrame, target_column:str)->pd.DataFrame:\\n    \\n    # Create a TfidfVectorizer object\\n    vectorizer=TfidfVectorizer()\\n    \\n    # train the vectorizer on the texts and convert the result into np.ndarray\\n    tokenized_texts=vectorizer.fit_transform(df[target_column])\\n    \\n    # create a DataFrame of tokenized text\\n    tokenized_df=pd.DataFrame(tokenized_texts,  columns=vectorizer.get_feature_names())\\n    \\n    return tokenized_df\\n\\n# df=tokenize(train_essays, 'text')\\n# df\\n\\nfrom keras.preprocessing.text import Tokenizer\\nfrom keras.preprocessing.sequence import pad_sequences\\nfrom keras.layers import Embedding, LSTM, Dense, Input, Conv1D, MaxPooling1D, Flatten\\nfrom keras.utils import to_categorical\\nfrom keras.models import Sequential\\n\\n\\n# Define the binary classifier by Sequential keras API \\ndef BinaryClassifer(model_name):\\n    \\n    # Create the model \\n    model=Sequential(model_name)\\n    model.add(Embedding(tokenizer.num_words, input_length=100))\\n    model.add(LSTM(units=64, return_sequences=True))\\n    model.add(Conv1D(units=32, kernel_size=3, activation='relu'))\\n    model.add(MaxPooling1D(pool_size=2))\\n    model.add(Falatten())\\n    model.add(Dense(units=32, activation='relu'))\\n    model.add(Dense(units=2, sigmoid('softmax')))\\n    \\n    # compile the model\\n    model.compile(loss='categoricalcrossentropy', optimizer=keras.optimizers.Adam(learning_rate=.001, metrick=['accuracy'])\\n    \\n    return model\\n    \\n \""
      ]
     },
     "execution_count": 21,
     "metadata": {},
     "output_type": "execute_result"
    }
   ],
   "source": [
    "'''\n",
    "import pandas as pd\n",
    "from sklearn.feature_extraction.text import TfidfVectorizer\n",
    "from sklearn.naive_bayes import MultinomialNB\n",
    "from tensorflow.keras.preprocessing.text import Tokenizer\n",
    "\n",
    "def tokenize(df:pd.DataFrame, target_column:str)->pd.DataFrame:\n",
    "    \n",
    "    # Create a TfidfVectorizer object\n",
    "    vectorizer=TfidfVectorizer()\n",
    "    \n",
    "    # train the vectorizer on the texts and convert the result into np.ndarray\n",
    "    tokenized_texts=vectorizer.fit_transform(df[target_column])\n",
    "    \n",
    "    # create a DataFrame of tokenized text\n",
    "    tokenized_df=pd.DataFrame(tokenized_texts,  columns=vectorizer.get_feature_names())\n",
    "    \n",
    "    return tokenized_df\n",
    "\n",
    "# df=tokenize(train_essays, 'text')\n",
    "# df\n",
    "\n",
    "from keras.preprocessing.text import Tokenizer\n",
    "from keras.preprocessing.sequence import pad_sequences\n",
    "from keras.layers import Embedding, LSTM, Dense, Input, Conv1D, MaxPooling1D, Flatten\n",
    "from keras.utils import to_categorical\n",
    "from keras.models import Sequential\n",
    "\n",
    "\n",
    "# Define the binary classifier by Sequential keras API \n",
    "def BinaryClassifer(model_name):\n",
    "    \n",
    "    # Create the model \n",
    "    model=Sequential(model_name)\n",
    "    model.add(Embedding(tokenizer.num_words, input_length=100))\n",
    "    model.add(LSTM(units=64, return_sequences=True))\n",
    "    model.add(Conv1D(units=32, kernel_size=3, activation='relu'))\n",
    "    model.add(MaxPooling1D(pool_size=2))\n",
    "    model.add(Falatten())\n",
    "    model.add(Dense(units=32, activation='relu'))\n",
    "    model.add(Dense(units=2, sigmoid('softmax')))\n",
    "    \n",
    "    # compile the model\n",
    "    model.compile(loss='categoricalcrossentropy', optimizer=keras.optimizers.Adam(learning_rate=.001, metrick=['accuracy'])\n",
    "    \n",
    "    return model\n",
    "    \n",
    " '''   "
   ]
  },
  {
   "cell_type": "markdown",
   "id": "c4f47f24",
   "metadata": {
    "papermill": {
     "duration": 0.053177,
     "end_time": "2023-12-07T18:28:29.328048",
     "exception": false,
     "start_time": "2023-12-07T18:28:29.274871",
     "status": "completed"
    },
    "tags": []
   },
   "source": [
    "## Modeling with transformers:"
   ]
  },
  {
   "cell_type": "code",
   "execution_count": 22,
   "id": "8c471641",
   "metadata": {
    "execution": {
     "iopub.execute_input": "2023-12-07T18:28:29.439180Z",
     "iopub.status.busy": "2023-12-07T18:28:29.438178Z",
     "iopub.status.idle": "2023-12-07T18:28:29.450975Z",
     "shell.execute_reply": "2023-12-07T18:28:29.449853Z"
    },
    "papermill": {
     "duration": 0.07132,
     "end_time": "2023-12-07T18:28:29.453333",
     "exception": false,
     "start_time": "2023-12-07T18:28:29.382013",
     "status": "completed"
    },
    "tags": []
   },
   "outputs": [
    {
     "data": {
      "text/plain": [
       "'\\nimport tensorflow as tf\\nfrom transformers import TFAutoModel, AutoTokenizer\\n\\n# Load pre-trained model and tokenizer\\nmodel_name = \"bert-base-uncased\"  # Example model, you can choose other available models\\nmodel = TFAutoModel.from_pretrained(model_name)\\ntokenizer = AutoTokenizer.from_pretrained(model_name)\\n\\n# Define input texts\\ntexts = [\\n    \"This is a real news article.\",\\n    \"This news is completely fake.\",\\n    \"I cannot believe this is true.\",\\n    \"The facts presented here seem accurate.\"\\n]\\n\\n# Tokenize input texts\\nencoded_inputs = tokenizer(texts, padding=True, truncation=True, return_tensors=\"tf\")\\n\\n# Pass the encoded inputs through the model\\noutputs = model(**encoded_inputs)\\n\\n# Access the model\\'s output\\nlogits = outputs.logits\\n\\n# Perform classification\\npredictions = tf.argmax(logits, axis=1)\\n\\n# Print the predictions\\nfor text, prediction in zip(texts, predictions.numpy()):\\n    if prediction == 0:\\n        print(f\"Text: {text}\\nPrediction: Real\\n\")\\n    else:\\n        print(f\"Text: {text}\\nPrediction: Fake\\n\")\\n\\nfrom transformers import TFAutoModel\\nfrom transformers import AutoTokenizer, AutoModelForSequenceClassification\\nimport tensorflow as tf\\n\\n# Check if a GPU is available\\ngpu_available = tf.config.list_physical_devices(\\'GPU\\')\\n\\n# Set the device based on GPU availability\\nif gpu_available:\\n    device = tf.config.list_physical_devices(\\'GPU\\')[0]\\nelse:\\n    device = tf.config.list_physical_devices(\\'CPU\\')[0]\\n\\n\\n# Load the pretrained tokenizer and model\\n\\ntokenizer = AutoTokenizer.from_pretrained(\"bert-base-uncased\")\\nmodel = AutoModelForSequenceClassification.from_pretrained(\"bert-base-uncased\", num_labels=2)\\n\\n# Define a function to classify text as real or fake\\ndef classify_text(text):\\n    # Tokenize the text\\n    encoded_text = tokenizer(text, truncation=True, padding=True, return_tensors=\\'tf\\')\\n\\n    # Predict the label\\n    predictions = model(**encoded_text)\\n    logits = predictions[0]\\n    predictions = tf.nn.softmax(logits, axis=-1)\\n\\n    # Get the label with the highest probability\\n    label = tf.argmax(predictions, axis=1).numpy()[0]\\n\\n    if label == 0:\\n        return \"Real\"\\n    else:\\n        return \"Fake\"\\n\\n# Example usage\\ntext = \"This is a real piece of news.\"\\nlabel = classify_text(text)\\nprint(f\"Label: {label}\")\\n\\n\\n\\n#############################------------------###############################---------------------########################----------------------#######################\\n\\n\\nimport tensorflow as tf\\nfrom transformers import TFAutoModel, AutoTokenizer\\n\\n# Load pre-trained model and tokenizer\\nmodel_name = \"bert-base-uncased\"  # Example model, you can choose other available models\\nmodel = TFAutoModel.from_pretrained(model_name)\\ntokenizer = AutoTokenizer.from_pretrained(model_name)\\n\\n# Define input texts\\ntexts = [\\n    \"This is a real news article.\",\\n    \"This news is completely fake.\",\\n    \"I cannot believe this is true.\",\\n    \"The facts presented here seem accurate.\",\\n    \" hello everyone, my name is said koussi from morrocco\", \\n     \"Here\\'s an updated version of the code that includes a classification layer for obtaining the logits\"\\n]\\n\\n# Tokenize input texts\\nencoded_inputs = tokenizer(texts, padding=True, truncation=True, return_tensors=\"tf\")\\n\\n# Pass the encoded inputs through the model\\noutputs = model(**encoded_inputs)\\n\\n# Obtain the pooled output\\npooled_output = outputs.pooler_output\\n\\n# Add a classification layer\\nclassification_layer = tf.keras.layers.Dense(2, activation=\\'softmax\\')\\nlogits = classification_layer(pooled_output)\\n\\n# Perform classification\\npredictions = tf.argmax(logits, axis=1)\\n\\n# Print the predictions\\nfor text, prediction in zip(texts, predictions.numpy()):\\n    if prediction == 0:\\n        print(prediction, f\"Text: {text}\\nPrediction: Real\\n\")\\n    else:\\n        print(prediction, f\"Text: {text}\\nPrediction: Fake\\n\")\\n        \\n'"
      ]
     },
     "execution_count": 22,
     "metadata": {},
     "output_type": "execute_result"
    }
   ],
   "source": [
    "'''\n",
    "import tensorflow as tf\n",
    "from transformers import TFAutoModel, AutoTokenizer\n",
    "\n",
    "# Load pre-trained model and tokenizer\n",
    "model_name = \"bert-base-uncased\"  # Example model, you can choose other available models\n",
    "model = TFAutoModel.from_pretrained(model_name)\n",
    "tokenizer = AutoTokenizer.from_pretrained(model_name)\n",
    "\n",
    "# Define input texts\n",
    "texts = [\n",
    "    \"This is a real news article.\",\n",
    "    \"This news is completely fake.\",\n",
    "    \"I cannot believe this is true.\",\n",
    "    \"The facts presented here seem accurate.\"\n",
    "]\n",
    "\n",
    "# Tokenize input texts\n",
    "encoded_inputs = tokenizer(texts, padding=True, truncation=True, return_tensors=\"tf\")\n",
    "\n",
    "# Pass the encoded inputs through the model\n",
    "outputs = model(**encoded_inputs)\n",
    "\n",
    "# Access the model's output\n",
    "logits = outputs.logits\n",
    "\n",
    "# Perform classification\n",
    "predictions = tf.argmax(logits, axis=1)\n",
    "\n",
    "# Print the predictions\n",
    "for text, prediction in zip(texts, predictions.numpy()):\n",
    "    if prediction == 0:\n",
    "        print(f\"Text: {text}\\nPrediction: Real\\n\")\n",
    "    else:\n",
    "        print(f\"Text: {text}\\nPrediction: Fake\\n\")\n",
    "\n",
    "from transformers import TFAutoModel\n",
    "from transformers import AutoTokenizer, AutoModelForSequenceClassification\n",
    "import tensorflow as tf\n",
    "\n",
    "# Check if a GPU is available\n",
    "gpu_available = tf.config.list_physical_devices('GPU')\n",
    "\n",
    "# Set the device based on GPU availability\n",
    "if gpu_available:\n",
    "    device = tf.config.list_physical_devices('GPU')[0]\n",
    "else:\n",
    "    device = tf.config.list_physical_devices('CPU')[0]\n",
    "\n",
    "\n",
    "# Load the pretrained tokenizer and model\n",
    "\n",
    "tokenizer = AutoTokenizer.from_pretrained(\"bert-base-uncased\")\n",
    "model = AutoModelForSequenceClassification.from_pretrained(\"bert-base-uncased\", num_labels=2)\n",
    "\n",
    "# Define a function to classify text as real or fake\n",
    "def classify_text(text):\n",
    "    # Tokenize the text\n",
    "    encoded_text = tokenizer(text, truncation=True, padding=True, return_tensors='tf')\n",
    "\n",
    "    # Predict the label\n",
    "    predictions = model(**encoded_text)\n",
    "    logits = predictions[0]\n",
    "    predictions = tf.nn.softmax(logits, axis=-1)\n",
    "\n",
    "    # Get the label with the highest probability\n",
    "    label = tf.argmax(predictions, axis=1).numpy()[0]\n",
    "\n",
    "    if label == 0:\n",
    "        return \"Real\"\n",
    "    else:\n",
    "        return \"Fake\"\n",
    "\n",
    "# Example usage\n",
    "text = \"This is a real piece of news.\"\n",
    "label = classify_text(text)\n",
    "print(f\"Label: {label}\")\n",
    "\n",
    "\n",
    "\n",
    "#############################------------------###############################---------------------########################----------------------#######################\n",
    "\n",
    "\n",
    "import tensorflow as tf\n",
    "from transformers import TFAutoModel, AutoTokenizer\n",
    "\n",
    "# Load pre-trained model and tokenizer\n",
    "model_name = \"bert-base-uncased\"  # Example model, you can choose other available models\n",
    "model = TFAutoModel.from_pretrained(model_name)\n",
    "tokenizer = AutoTokenizer.from_pretrained(model_name)\n",
    "\n",
    "# Define input texts\n",
    "texts = [\n",
    "    \"This is a real news article.\",\n",
    "    \"This news is completely fake.\",\n",
    "    \"I cannot believe this is true.\",\n",
    "    \"The facts presented here seem accurate.\",\n",
    "    \" hello everyone, my name is said koussi from morrocco\", \n",
    "     \"Here's an updated version of the code that includes a classification layer for obtaining the logits\"\n",
    "]\n",
    "\n",
    "# Tokenize input texts\n",
    "encoded_inputs = tokenizer(texts, padding=True, truncation=True, return_tensors=\"tf\")\n",
    "\n",
    "# Pass the encoded inputs through the model\n",
    "outputs = model(**encoded_inputs)\n",
    "\n",
    "# Obtain the pooled output\n",
    "pooled_output = outputs.pooler_output\n",
    "\n",
    "# Add a classification layer\n",
    "classification_layer = tf.keras.layers.Dense(2, activation='softmax')\n",
    "logits = classification_layer(pooled_output)\n",
    "\n",
    "# Perform classification\n",
    "predictions = tf.argmax(logits, axis=1)\n",
    "\n",
    "# Print the predictions\n",
    "for text, prediction in zip(texts, predictions.numpy()):\n",
    "    if prediction == 0:\n",
    "        print(prediction, f\"Text: {text}\\nPrediction: Real\\n\")\n",
    "    else:\n",
    "        print(prediction, f\"Text: {text}\\nPrediction: Fake\\n\")\n",
    "        \n",
    "'''"
   ]
  },
  {
   "cell_type": "code",
   "execution_count": 23,
   "id": "ef1c9cdf",
   "metadata": {
    "execution": {
     "iopub.execute_input": "2023-12-07T18:28:29.563976Z",
     "iopub.status.busy": "2023-12-07T18:28:29.562511Z",
     "iopub.status.idle": "2023-12-07T18:28:29.572930Z",
     "shell.execute_reply": "2023-12-07T18:28:29.571774Z"
    },
    "papermill": {
     "duration": 0.068353,
     "end_time": "2023-12-07T18:28:29.575387",
     "exception": false,
     "start_time": "2023-12-07T18:28:29.507034",
     "status": "completed"
    },
    "tags": []
   },
   "outputs": [
    {
     "data": {
      "text/plain": [
       "\"\\nimport tensorflow as tf\\n\\n# import the intersting callbacks \\nfrom  tensorflow.keras.callbacks import EarlyStopping\\nfrom  tensorflow.keras.callbacks import ModelCheckpoint\\n\\n# Define the callbacks:\\nearly_stopping=EarlyStopping(monitor='val_loss', patience=3)\\nmodel_checkpoint=ModelCheckpoint('best_model.h5', monitor='val_accuracy',\\n                                  save_best_only=True)\\n\\n# Loading the PreTrained Model:\\nfrom transformers import TFAutoModelForSequenceClassification as TFmodel\\n\\n# our classifier is a binary classifier, so the number of labels is 2\\n# setting the parameters\\nnum_labels=2\\nbatch_size=32\\n\\n\\ntf_model=(TFmodel.from_pretrained(model_ckpt, num_labels=num_labels ))\\n\\n# fine-tuning the model with tf.keras API\\n\\n# The Column names to convert to tensorflow tensors\\ntf_train_dataset=train_essays['train'].to_tf_dataset[columns=tokenizer_columns,\\n                                                             label_cols=['label'],\\n                                                             shuffle=True, batch_size=batch_size]\\n\\ntf_test_dataset=train_essays['validation'].to_tf_dataset[columns=tokenizer_columns,\\n                                                             label_cols=['label'],\\n                                                             shuffle=True, batch_size=batch_size]\\n\\n\\n# compile the model\\ntf_model.compile(optimizer=tf.keras.optimizers.Adam(learning_rate=4e-4),\\n                                                    loss=tf.keras.losses.SparseCategoricalCrossentropy(from_logits=True),\\n                                                    metrics=tf.metrics.SparseCategoricalAccuracy())\\n\\n# train the model\\ntf_model.fit(train_data=tf_train_dataset, validation_data=tf_test_dataset, epochs=epochs, callback=[early_stopping, model_checkpoint])\\n\\n\\n\\n\""
      ]
     },
     "execution_count": 23,
     "metadata": {},
     "output_type": "execute_result"
    }
   ],
   "source": [
    "'''\n",
    "import tensorflow as tf\n",
    "\n",
    "# import the intersting callbacks \n",
    "from  tensorflow.keras.callbacks import EarlyStopping\n",
    "from  tensorflow.keras.callbacks import ModelCheckpoint\n",
    "\n",
    "# Define the callbacks:\n",
    "early_stopping=EarlyStopping(monitor='val_loss', patience=3)\n",
    "model_checkpoint=ModelCheckpoint('best_model.h5', monitor='val_accuracy',\n",
    "                                  save_best_only=True)\n",
    "\n",
    "# Loading the PreTrained Model:\n",
    "from transformers import TFAutoModelForSequenceClassification as TFmodel\n",
    "\n",
    "# our classifier is a binary classifier, so the number of labels is 2\n",
    "# setting the parameters\n",
    "num_labels=2\n",
    "batch_size=32\n",
    "\n",
    "\n",
    "tf_model=(TFmodel.from_pretrained(model_ckpt, num_labels=num_labels ))\n",
    "\n",
    "# fine-tuning the model with tf.keras API\n",
    "\n",
    "# The Column names to convert to tensorflow tensors\n",
    "tf_train_dataset=train_essays['train'].to_tf_dataset[columns=tokenizer_columns,\n",
    "                                                             label_cols=['label'],\n",
    "                                                             shuffle=True, batch_size=batch_size]\n",
    "\n",
    "tf_test_dataset=train_essays['validation'].to_tf_dataset[columns=tokenizer_columns,\n",
    "                                                             label_cols=['label'],\n",
    "                                                             shuffle=True, batch_size=batch_size]\n",
    "\n",
    "\n",
    "# compile the model\n",
    "tf_model.compile(optimizer=tf.keras.optimizers.Adam(learning_rate=4e-4),\n",
    "                                                    loss=tf.keras.losses.SparseCategoricalCrossentropy(from_logits=True),\n",
    "                                                    metrics=tf.metrics.SparseCategoricalAccuracy())\n",
    "\n",
    "# train the model\n",
    "tf_model.fit(train_data=tf_train_dataset, validation_data=tf_test_dataset, epochs=epochs, callback=[early_stopping, model_checkpoint])\n",
    "\n",
    "\n",
    "\n",
    "'''"
   ]
  },
  {
   "cell_type": "code",
   "execution_count": null,
   "id": "6e34c324",
   "metadata": {
    "papermill": {
     "duration": 0.053682,
     "end_time": "2023-12-07T18:28:29.682458",
     "exception": false,
     "start_time": "2023-12-07T18:28:29.628776",
     "status": "completed"
    },
    "tags": []
   },
   "outputs": [],
   "source": []
  },
  {
   "cell_type": "markdown",
   "id": "b5fd732d",
   "metadata": {
    "papermill": {
     "duration": 0.053969,
     "end_time": "2023-12-07T18:28:29.790137",
     "exception": false,
     "start_time": "2023-12-07T18:28:29.736168",
     "status": "completed"
    },
    "tags": []
   },
   "source": [
    "## Submission:"
   ]
  },
  {
   "cell_type": "code",
   "execution_count": 24,
   "id": "5185ec2a",
   "metadata": {
    "execution": {
     "iopub.execute_input": "2023-12-07T18:28:29.902436Z",
     "iopub.status.busy": "2023-12-07T18:28:29.901363Z",
     "iopub.status.idle": "2023-12-07T18:28:29.910028Z",
     "shell.execute_reply": "2023-12-07T18:28:29.908864Z"
    },
    "papermill": {
     "duration": 0.06826,
     "end_time": "2023-12-07T18:28:29.912296",
     "exception": false,
     "start_time": "2023-12-07T18:28:29.844036",
     "status": "completed"
    },
    "tags": []
   },
   "outputs": [
    {
     "data": {
      "text/plain": [
       "'\\nimport pandas as pd\\n\\ntest = pd.read_csv(\\'/kaggle/input/llm-detect-ai-generated-text/test_essays.csv\\')\\ntest\\n\\ntrain = pd.read_csv(\"/kaggle/input/daigt-v2-train-dataset/train_v2_drcat_02.csv\")\\ntrain.rename(columns={\\'label\\':\\'generated\\'})\\n\\nexternal_train=pd.read_csv(\\'/kaggle/input/llm-detect-ai-generated-text/train_essays.csv\\')\\n\\n## concatenate the data\\ntrain=pd.concat([train, external_train])\\n\\ntest=pd.read_csv(\\'/kaggle/input/llm-detect-ai-generated-text/test_essays.csv\\')\\ntest\\n\\nvectorizer=TfidfVectorizer(ngram_range=(3, 5), tokenizer=lambda x: re.findall(r\\'[^\\\\w]\\'),\\n                           token_pattern=None, strip_accents=\\'unicode\\')\\n\\nvectorizer.fit(test[\\'text\\'])\\nX=vectorizer.transform(df)\\n\\n'"
      ]
     },
     "execution_count": 24,
     "metadata": {},
     "output_type": "execute_result"
    }
   ],
   "source": [
    "'''\n",
    "import pandas as pd\n",
    "\n",
    "test = pd.read_csv('/kaggle/input/llm-detect-ai-generated-text/test_essays.csv')\n",
    "test\n",
    "\n",
    "train = pd.read_csv(\"/kaggle/input/daigt-v2-train-dataset/train_v2_drcat_02.csv\")\n",
    "train.rename(columns={'label':'generated'})\n",
    "\n",
    "external_train=pd.read_csv('/kaggle/input/llm-detect-ai-generated-text/train_essays.csv')\n",
    "\n",
    "## concatenate the data\n",
    "train=pd.concat([train, external_train])\n",
    "\n",
    "test=pd.read_csv('/kaggle/input/llm-detect-ai-generated-text/test_essays.csv')\n",
    "test\n",
    "\n",
    "vectorizer=TfidfVectorizer(ngram_range=(3, 5), tokenizer=lambda x: re.findall(r'[^\\w]'),\n",
    "                           token_pattern=None, strip_accents='unicode')\n",
    "\n",
    "vectorizer.fit(test['text'])\n",
    "X=vectorizer.transform(df)\n",
    "\n",
    "'''"
   ]
  },
  {
   "attachments": {
    "c5ac894f-edcb-4075-819d-336ca098df3e.png": {
     "image/png": "[encoded data removed]"
    }
   },
   "cell_type": "markdown",
   "id": "1f6cbd3f",
   "metadata": {
    "papermill": {
     "duration": 0.05539,
     "end_time": "2023-12-07T18:28:30.025072",
     "exception": false,
     "start_time": "2023-12-07T18:28:29.969682",
     "status": "completed"
    },
    "tags": []
   },
   "source": [
    "submission csv file take the following format:\n",
    "\n",
    "\n",
    "![subbmission_file.png](attachment:c5ac894f-edcb-4075-819d-336ca098df3e.png)"
   ]
  },
  {
   "cell_type": "code",
   "execution_count": 25,
   "id": "c1851713",
   "metadata": {
    "execution": {
     "iopub.execute_input": "2023-12-07T18:28:30.135385Z",
     "iopub.status.busy": "2023-12-07T18:28:30.134421Z",
     "iopub.status.idle": "2023-12-07T18:28:30.142198Z",
     "shell.execute_reply": "2023-12-07T18:28:30.140995Z"
    },
    "papermill": {
     "duration": 0.065298,
     "end_time": "2023-12-07T18:28:30.144490",
     "exception": false,
     "start_time": "2023-12-07T18:28:30.079192",
     "status": "completed"
    },
    "tags": []
   },
   "outputs": [
    {
     "data": {
      "text/plain": [
       "\"\\nsubmission=pd.DataFrame({'id': test['id'],\\n                         'generated': test['generated']})\\n\""
      ]
     },
     "execution_count": 25,
     "metadata": {},
     "output_type": "execute_result"
    }
   ],
   "source": [
    "'''\n",
    "submission=pd.DataFrame({'id': test['id'],\n",
    "                         'generated': test['generated']})\n",
    "'''"
   ]
  },
  {
   "cell_type": "markdown",
   "id": "11c0aabc",
   "metadata": {
    "papermill": {
     "duration": 0.053743,
     "end_time": "2023-12-07T18:28:30.253172",
     "exception": false,
     "start_time": "2023-12-07T18:28:30.199429",
     "status": "completed"
    },
    "tags": []
   },
   "source": [
    "## Submission:"
   ]
  },
  {
   "cell_type": "code",
   "execution_count": 26,
   "id": "2213ff48",
   "metadata": {
    "execution": {
     "iopub.execute_input": "2023-12-07T18:28:30.364347Z",
     "iopub.status.busy": "2023-12-07T18:28:30.363554Z",
     "iopub.status.idle": "2023-12-07T18:28:30.374981Z",
     "shell.execute_reply": "2023-12-07T18:28:30.373792Z"
    },
    "papermill": {
     "duration": 0.069405,
     "end_time": "2023-12-07T18:28:30.377598",
     "exception": false,
     "start_time": "2023-12-07T18:28:30.308193",
     "status": "completed"
    },
    "tags": []
   },
   "outputs": [],
   "source": [
    "test['generated']=preds\n",
    "pd.DataFrame({'id': test['id'],\n",
    "                      'generated': test['generated']}).to_csv('submission.csv', index=False)"
   ]
  },
  {
   "cell_type": "code",
   "execution_count": null,
   "id": "f21887a7",
   "metadata": {
    "papermill": {
     "duration": 0.053669,
     "end_time": "2023-12-07T18:28:30.485485",
     "exception": false,
     "start_time": "2023-12-07T18:28:30.431816",
     "status": "completed"
    },
    "tags": []
   },
   "outputs": [],
   "source": []
  }
 ],
 "metadata": {
  "kaggle": {
   "accelerator": "none",
   "dataSources": [
    {
     "databundleVersionId": 6888007,
     "sourceId": 61542,
     "sourceType": "competition"
    },
    {
     "datasetId": 3936750,
     "sourceId": 6847931,
     "sourceType": "datasetVersion"
    },
    {
     "datasetId": 3946973,
     "sourceId": 6867914,
     "sourceType": "datasetVersion"
    },
    {
     "datasetId": 3942644,
     "sourceId": 6890527,
     "sourceType": "datasetVersion"
    },
    {
     "datasetId": 4005256,
     "sourceId": 6977472,
     "sourceType": "datasetVersion"
    }
   ],
   "dockerImageVersionId": 30615,
   "isGpuEnabled": false,
   "isInternetEnabled": true,
   "language": "python",
   "sourceType": "notebook"
  },
  "kernelspec": {
   "display_name": "Python 3",
   "language": "python",
   "name": "python3"
  },
  "language_info": {
   "codemirror_mode": {
    "name": "ipython",
    "version": 3
   },
   "file_extension": ".py",
   "mimetype": "text/x-python",
   "name": "python",
   "nbconvert_exporter": "python",
   "pygments_lexer": "ipython3",
   "version": "3.10.12"
  },
  "papermill": {
   "default_parameters": {},
   "duration": 98.272056,
   "end_time": "2023-12-07T18:28:32.265945",
   "environment_variables": {},
   "exception": null,
   "input_path": "__notebook__.ipynb",
   "output_path": "__notebook__.ipynb",
   "parameters": {},
   "start_time": "2023-12-07T18:26:53.993889",
   "version": "2.4.0"
  }
 },
 "nbformat": 4,
 "nbformat_minor": 5
}
